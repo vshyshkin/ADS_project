{
 "cells": [
  {
   "cell_type": "markdown",
   "metadata": {},
   "source": [
    "# Analiza społeczności"
   ]
  },
  {
   "cell_type": "code",
   "execution_count": 29,
   "metadata": {},
   "outputs": [
    {
     "name": "stdout",
     "output_type": "stream",
     "text": [
      "The autoreload extension is already loaded. To reload it, use:\n",
      "  %reload_ext autoreload\n"
     ]
    },
    {
     "name": "stderr",
     "output_type": "stream",
     "text": [
      "100%|██████████| 312502/312502 [00:02<00:00, 131358.70it/s]\n"
     ]
    }
   ],
   "source": [
    "from helpers import read_jsonline, extract_mentions\n",
    "import pandas as pd\n",
    "from tqdm.auto import tqdm\n",
    "\n",
    "tqdm.pandas()\n",
    "    \n",
    "df_tweets = read_jsonline(\"../datasets/tweets_all_tagged.jl\")\n",
    "df_tweets[\"mentions\"] = df_tweets[\"tweet\"].progress_apply(extract_mentions)"
   ]
  },
  {
   "cell_type": "code",
   "execution_count": 2,
   "metadata": {},
   "outputs": [
    {
     "name": "stdout",
     "output_type": "stream",
     "text": [
      "Liczba zebranych tweetów: 312502\n"
     ]
    }
   ],
   "source": [
    "print(f\"Liczba zebranych tweetów: {len(df_tweets)}\")"
   ]
  },
  {
   "cell_type": "code",
   "execution_count": 3,
   "metadata": {},
   "outputs": [],
   "source": [
    "df_users = read_jsonline(\"../datasets/users_all.jl\")"
   ]
  },
  {
   "cell_type": "code",
   "execution_count": 4,
   "metadata": {},
   "outputs": [
    {
     "name": "stdout",
     "output_type": "stream",
     "text": [
      "Liczba użytkowników, którzy napisali tweety: 42146\n"
     ]
    }
   ],
   "source": [
    "print(f\"Liczba użytkowników, którzy napisali tweety: {len(df_users)}\")"
   ]
  },
  {
   "cell_type": "code",
   "execution_count": 5,
   "metadata": {},
   "outputs": [],
   "source": [
    "df_affiliation = pd.read_csv(\"../datasets/affiliations.csv\")"
   ]
  },
  {
   "cell_type": "code",
   "execution_count": 6,
   "metadata": {},
   "outputs": [
    {
     "data": {
      "text/plain": [
       "True     253\n",
       "False     38\n",
       "Name: username, dtype: int64"
      ]
     },
     "execution_count": 6,
     "metadata": {},
     "output_type": "execute_result"
    }
   ],
   "source": [
    "df_affiliation[\"username\"].isin(df_users[\"username\"]).value_counts()"
   ]
  },
  {
   "cell_type": "markdown",
   "metadata": {},
   "source": [
    "dla 38 polityków udało się zebrać jedynie wzmiankę (oznaczenie)"
   ]
  },
  {
   "cell_type": "code",
   "execution_count": 7,
   "metadata": {},
   "outputs": [],
   "source": [
    "df_users = df_users.join(df_affiliation.set_index(\"username\"), on=\"username\")\n",
    "df_users[\"affiliation\"] = df_users[\"affiliation\"].fillna(\"none\")"
   ]
  },
  {
   "cell_type": "code",
   "execution_count": 8,
   "metadata": {},
   "outputs": [],
   "source": [
    "df_politicians = df_users[df_users[\"affiliation\"] != \"none\"]"
   ]
  },
  {
   "cell_type": "code",
   "execution_count": 9,
   "metadata": {},
   "outputs": [
    {
     "name": "stdout",
     "output_type": "stream",
     "text": [
      "Liczba tweetów autorstwa wybranych polityków: 5421\n"
     ]
    }
   ],
   "source": [
    "df_politician_tweets = df_tweets[df_tweets[\"user_id\"].isin(df_politicians[\"id\"])].reset_index(drop=True)\n",
    "print(f\"Liczba tweetów autorstwa wybranych polityków: {len(df_politician_tweets)}\")"
   ]
  },
  {
   "cell_type": "code",
   "execution_count": 10,
   "metadata": {},
   "outputs": [
    {
     "data": {
      "text/plain": [
       "151"
      ]
     },
     "execution_count": 10,
     "metadata": {},
     "output_type": "execute_result"
    }
   ],
   "source": [
    "df_politician_tweets[\"user_id\"].nunique()"
   ]
  },
  {
   "cell_type": "markdown",
   "metadata": {},
   "source": [
    "## Wizualizacja interakcji między politykami"
   ]
  },
  {
   "cell_type": "code",
   "execution_count": 12,
   "metadata": {},
   "outputs": [],
   "source": [
    "from consts import query_name_mapping, get_color_by_query_name\n",
    "import networkx as nx\n",
    "import plotly.graph_objects as go\n",
    "from typing import Optional\n",
    "\n",
    "\n",
    "def nx_to_plotly(graph: nx.Graph, save_name: Optional[str] = None):\n",
    "    positions = nx.drawing.layout.kamada_kawai_layout(graph, scale=20)\n",
    "    max_degree = max([x[1] for x in graph.degree()])\n",
    "\n",
    "    traces_data = {}\n",
    "    for party in df_affiliation[\"affiliation\"].unique():\n",
    "        traces_data[party] = {\"node_x\": [], \"node_y\": [], \"node_texts\": []}\n",
    "\n",
    "    for node in graph:\n",
    "        x, y = positions[node]\n",
    "        party = df_affiliation[df_affiliation[\"username\"] == node].iloc[0][\n",
    "            \"affiliation\"\n",
    "        ]\n",
    "        traces_data[party][\"node_x\"].append(x)\n",
    "        traces_data[party][\"node_y\"].append(y)\n",
    "        traces_data[party][\"node_texts\"].append(node)\n",
    "\n",
    "    node_traces = []\n",
    "    for party, trace_data in traces_data.items():\n",
    "        first = True\n",
    "        for x, y, text in zip(trace_data[\"node_x\"], trace_data[\"node_y\"], trace_data[\"node_texts\"]):\n",
    "            degree = graph.degree(text)\n",
    "            node_trace = go.Scatter(\n",
    "                x=[x],\n",
    "                y=[y],\n",
    "                mode=\"markers\",\n",
    "                hoverinfo=\"text\",\n",
    "                text=text,\n",
    "                name=query_name_mapping[party],\n",
    "                marker=dict(\n",
    "                    size=10 * ((degree / max_degree) * 2 + 1),\n",
    "                    line_width=2,\n",
    "                    color=get_color_by_query_name(party)\n",
    "                ),\n",
    "                showlegend=first,\n",
    "            )\n",
    "            first = False\n",
    "            node_traces.append(node_trace)\n",
    "\n",
    "    edge_x = []\n",
    "    edge_y = []\n",
    "\n",
    "    for edge in graph.edges():\n",
    "        x0, y0 = positions[edge[0]]\n",
    "        x1, y1 = positions[edge[1]]\n",
    "        edge_x.append(x0)\n",
    "        edge_x.append(x1)\n",
    "        edge_y.append(y0)\n",
    "        edge_y.append(y1)\n",
    "\n",
    "    edge_trace = go.Scatter(\n",
    "        x=edge_x,\n",
    "        y=edge_y,\n",
    "        line=dict(width=0.5, color=\"#888\"),\n",
    "        hoverinfo=\"none\",\n",
    "        mode=\"lines\",\n",
    "        showlegend=False,\n",
    "    )\n",
    "\n",
    "    fig = go.Figure(\n",
    "        data=[edge_trace, *node_traces],\n",
    "        layout=go.Layout(\n",
    "            title={\n",
    "                \"text\": \"Interakcje między politykami\",\n",
    "                \"y\": 0.9,\n",
    "                \"x\": 0.5,\n",
    "                \"xanchor\": \"center\",\n",
    "                \"yanchor\": \"top\",\n",
    "            },\n",
    "            titlefont_size=16,\n",
    "            showlegend=True,\n",
    "            legend_title_text=\"Partia\",\n",
    "            xaxis=dict(showgrid=False, zeroline=False, showticklabels=False),\n",
    "            yaxis=dict(showgrid=False, zeroline=False, showticklabels=False),\n",
    "            width=1000,\n",
    "            height=600,\n",
    "        ),\n",
    "    )\n",
    "\n",
    "    fig.show()\n",
    "    if save_name is not None:\n",
    "        fig.write_image(save_name, width=2000, height=1200)\n"
   ]
  },
  {
   "cell_type": "code",
   "execution_count": 13,
   "metadata": {},
   "outputs": [],
   "source": [
    "graph_politicians = nx.Graph()\n",
    "\n",
    "for _, row in df_politician_tweets.iterrows():\n",
    "    username = df_politicians[df_politicians[\"id\"] == row[\"user_id\"]].iloc[0]\n",
    "    username = username[\"username\"]\n",
    "    for user in row[\"mentions\"]:\n",
    "        if user == username:\n",
    "            continue\n",
    "        if user in df_politicians[\"username\"]:\n",
    "            graph_politicians.add_edge(username, user)\n",
    "    if row[\"id\"] != row[\"conversation_id\"]: # comment\n",
    "        recipient_id = df_politician_tweets.loc[df_politician_tweets[\"id\"] == row[\"conversation_id\"]][\"user_id\"]\n",
    "        if len(recipient_id):\n",
    "            recipient_id = recipient_id.iloc[0]\n",
    "            recipient = df_politicians[df_politicians[\"id\"] == recipient_id].iloc[0]\n",
    "            if recipient[\"username\"] == username:\n",
    "                continue\n",
    "            graph_politicians.add_edge(username, recipient[\"username\"])"
   ]
  },
  {
   "cell_type": "code",
   "execution_count": 14,
   "metadata": {},
   "outputs": [
    {
     "name": "stdout",
     "output_type": "stream",
     "text": [
      "Liczba wierzchołków: 83\n"
     ]
    }
   ],
   "source": [
    "print(f\"Liczba wierzchołków: {graph_politicians.number_of_nodes()}\")"
   ]
  },
  {
   "cell_type": "code",
   "execution_count": 15,
   "metadata": {},
   "outputs": [
    {
     "data": {
      "application/vnd.plotly.v1+json": {
       "config": {
        "plotlyServerURL": "https://plot.ly"
       },
       "data": [
        {
         "hoverinfo": "none",
         "line": {
          "color": "#888",
          "width": 0.5
         },
         "mode": "lines",
         "showlegend": false,
         "type": "scatter",
         "x": [
          9.132113002520937,
          6.316349447963275,
          9.132113002520937,
          4.974056252323009,
          9.132113002520937,
          13.35754327610037,
          6.316349447963275,
          0.558283636474663,
          5.073936177852928,
          6.367755405854603,
          5.073936177852928,
          7.636852126673872,
          5.073936177852928,
          0.7082672070775957,
          5.073936177852928,
          7.755105189519986,
          5.073936177852928,
          3.680117631741176,
          5.073936177852928,
          8.803389756154195,
          5.073936177852928,
          2.1382590143929,
          6.367755405854603,
          2.1382590143929,
          -3.829929232827646,
          -7.353768647337323,
          -3.829929232827646,
          -2.8996914060104757,
          -3.829929232827646,
          -8.429957358095765,
          -3.829929232827646,
          0.5819715544449823,
          -3.829929232827646,
          0.558283636474663,
          -7.353768647337323,
          -3.607717073600469,
          -7.353768647337323,
          -10.99514760645197,
          -3.607717073600469,
          -5.785728219410922,
          -3.607717073600469,
          0.7082672070775957,
          -3.607717073600469,
          -7.064570912877252,
          -3.607717073600469,
          -0.7241395404181206,
          -3.607717073600469,
          -1.6268517262135536,
          -3.607717073600469,
          -5.389849056239594,
          -3.607717073600469,
          -0.8932696798999636,
          -10.99514760645197,
          -7.064570912877252,
          -10.99514760645197,
          -14.923897340534047,
          -2.8996914060104757,
          -1.1375360965131671,
          -2.8996914060104757,
          -1.6436261240071697,
          -2.8996914060104757,
          -5.785728219410922,
          -2.8996914060104757,
          -4.944276818984257,
          -2.8996914060104757,
          2.1382590143929,
          -2.8996914060104757,
          -2.558750139818583,
          -2.8996914060104757,
          -7.393487179018038,
          -2.8996914060104757,
          -7.52816291964097,
          -2.8996914060104757,
          -0.40542709830373475,
          -2.8996914060104757,
          0.5819715544449823,
          -2.8996914060104757,
          -0.8932696798999636,
          4.974056252323009,
          9.148050883547747,
          4.974056252323009,
          3.680117631741176,
          4.974056252323009,
          0.5819715544449823,
          4.974056252323009,
          2.1382590143929,
          16.20401106103185,
          12.221075523431729,
          16.20401106103185,
          20,
          12.221075523431729,
          7.636852126673872,
          12.221075523431729,
          15.252479160601105,
          0.9727209276271818,
          -0.4352027127114025,
          -0.4352027127114025,
          0.006974509428206663,
          -0.4352027127114025,
          -1.447277277339078,
          -0.4352027127114025,
          2.105364091549603,
          -0.4352027127114025,
          1.0495486306024444,
          -0.4352027127114025,
          -4.23357870608486,
          -0.4352027127114025,
          2.1382590143929,
          0.006974509428206663,
          3.115686027214447,
          0.006974509428206663,
          -3.9970273964199468,
          0.006974509428206663,
          2.1382590143929,
          3.115686027214447,
          -0.7241395404181206,
          3.115686027214447,
          3.967104110830937,
          3.115686027214447,
          0.7146186324307094,
          3.115686027214447,
          1.8176425460385508,
          -3.9970273964199468,
          -2.558750139818583,
          -3.9970273964199468,
          -0.7241395404181206,
          7.636852126673872,
          3.4838475422498636,
          7.636852126673872,
          3.967104110830937,
          2.105364091549603,
          -0.40542709830373475,
          2.105364091549603,
          3.967104110830937,
          -0.40542709830373475,
          2.1382590143929,
          1.0495486306024444,
          1.8176425460385508,
          -4.23357870608486,
          -8.498964349132578,
          -4.23357870608486,
          -7.646306921893899,
          -4.23357870608486,
          -6.018759293551641,
          -4.23357870608486,
          -4.944276818984257,
          -4.23357870608486,
          0.558283636474663,
          -8.498964349132578,
          -7.064570912877252,
          0.4065854202686388,
          -2.8862006526028527,
          -1.6268517262135536,
          -1.998198911009484,
          -1.6268517262135536,
          3.680117631741176,
          -1.6268517262135536,
          -7.064570912877252,
          -1.6268517262135536,
          -2.9455567357293164,
          -1.6268517262135536,
          -2.558750139818583,
          -1.6268517262135536,
          0.7146186324307094,
          -1.6268517262135536,
          -0.08998157572590784,
          -0.7806218550119942,
          -3.554206412078201,
          0.7082672070775957,
          -2.558750139818583,
          -3.170663564908275,
          -1.6436261240071697,
          -1.6436261240071697,
          -4.944276818984257,
          -1.6436261240071697,
          -1.1375360965131671,
          -1.6436261240071697,
          -2.5792657881692755,
          -1.6436261240071697,
          3.4838475422498636,
          -1.6436261240071697,
          0.5819715544449823,
          -1.1375360965131671,
          -6.293862998551196,
          -1.1375360965131671,
          -4.988201942786079,
          -1.1375360965131671,
          -2.558750139818583,
          -1.1375360965131671,
          -2.5792657881692755,
          -1.1375360965131671,
          3.4838475422498636,
          -1.1375360965131671,
          0.7146186324307094,
          -1.1375360965131671,
          1.8176425460385508,
          -1.1375360965131671,
          3.967104110830937,
          -6.293862998551196,
          -8.429957358095765,
          3.6299456033056057,
          5.460970766362163,
          3.6299456033056057,
          3.967104110830937,
          3.6299456033056057,
          0.558283636474663,
          -8.429957358095765,
          -12.142654436297594,
          -5.785728219410922,
          -7.064570912877252,
          -2.558750139818583,
          1.439906144951354,
          -2.558750139818583,
          -0.3625864063546036,
          -2.558750139818583,
          -7.172574521345338,
          -2.558750139818583,
          -6.140532709595033,
          -2.558750139818583,
          -4.85702852153565,
          -2.558750139818583,
          -2.9455567357293164,
          1.439906144951354,
          2.1382590143929,
          -0.3625864063546036,
          -0.7241395404181206,
          -7.064570912877252,
          -10.413373022761037,
          -0.7241395404181206,
          0.5819715544449823,
          2.1382590143929,
          0.558283636474663,
          1.8176425460385508,
          3.5046515386579173,
          -6.515772758324669,
          -5.389849056239594,
          3.967104110830937,
          3.9312756129373265,
          3.967104110830937,
          8.062916164404982,
          3.967104110830937,
          0.5819715544449823,
          3.967104110830937,
          6.170770706275636,
          0.7146186324307094,
          3.8478272096011903,
          0.7146186324307094,
          0.5819715544449823,
          3.9312756129373265,
          0.558283636474663,
          3.5046515386579173,
          -0.8932696798999636,
          -0.8932696798999636,
          2.3594000127058328,
          -0.8932696798999636,
          0.558283636474663,
          6.170770706275636,
          2.346811140973443,
          0.558283636474663,
          2.346811140973443
         ],
         "y": [
          0.7880627796719262,
          4.2154820937831525,
          0.7880627796719262,
          -1.571151904320052,
          0.7880627796719262,
          -0.22561941783800976,
          4.2154820937831525,
          3.927486748221161,
          -3.375975409328598,
          -0.6400714197809454,
          -3.375975409328598,
          0.808340827394096,
          -3.375975409328598,
          -6.099594360842919,
          -3.375975409328598,
          -7.137230274565937,
          -3.375975409328598,
          -6.281567912552746,
          -3.375975409328598,
          -5.763697357948702,
          -3.375975409328598,
          0.8587909748179167,
          -0.6400714197809454,
          0.8587909748179167,
          1.5591813777542696,
          -2.494998273264373,
          1.5591813777542696,
          -0.31652879182060245,
          1.5591813777542696,
          4.559241761791937,
          1.5591813777542696,
          -0.3557611033731158,
          1.5591813777542696,
          3.927486748221161,
          -2.494998273264373,
          -5.346394510272192,
          -2.494998273264373,
          -3.916031987266776,
          -5.346394510272192,
          -2.844108035130966,
          -5.346394510272192,
          -6.099594360842919,
          -5.346394510272192,
          -4.71063240580565,
          -5.346394510272192,
          -3.9162758413744365,
          -5.346394510272192,
          -6.856235510701986,
          -5.346394510272192,
          -10.167564167934108,
          -5.346394510272192,
          -1.7569505106757608,
          -3.916031987266776,
          -4.71063240580565,
          -3.916031987266776,
          -4.763728735430261,
          -0.31652879182060245,
          0.76200342437137,
          -0.31652879182060245,
          2.977726551442538,
          -0.31652879182060245,
          -2.844108035130966,
          -0.31652879182060245,
          3.2918550047733137,
          -0.31652879182060245,
          0.8587909748179167,
          -0.31652879182060245,
          -4.060050571740059,
          -0.31652879182060245,
          0.8065928676137766,
          -0.31652879182060245,
          -0.40944534677619776,
          -0.31652879182060245,
          2.759677379818961,
          -0.31652879182060245,
          -0.3557611033731158,
          -0.31652879182060245,
          -1.7569505106757608,
          -1.571151904320052,
          -3.8504863873531354,
          -1.571151904320052,
          -6.281567912552746,
          -1.571151904320052,
          -0.3557611033731158,
          -1.571151904320052,
          0.8587909748179167,
          0.2006167285808104,
          1.702381540754358,
          0.2006167285808104,
          -0.27701773108547045,
          1.702381540754358,
          0.808340827394096,
          1.702381540754358,
          4.756735522563416,
          11.174621766771374,
          6.146176460062672,
          6.146176460062672,
          1.7036628756420755,
          6.146176460062672,
          10.963332067730368,
          6.146176460062672,
          6.500642308782684,
          6.146176460062672,
          8.2096593515385,
          6.146176460062672,
          6.0439085267809265,
          6.146176460062672,
          0.8587909748179167,
          1.7036628756420755,
          -0.607486476841496,
          1.7036628756420755,
          -2.1214318504298433,
          1.7036628756420755,
          0.8587909748179167,
          -0.607486476841496,
          -3.9162758413744365,
          -0.607486476841496,
          2.9973873541492893,
          -0.607486476841496,
          -3.8089074791080444,
          -0.607486476841496,
          2.8624187447358973,
          -2.1214318504298433,
          -4.060050571740059,
          -2.1214318504298433,
          -3.9162758413744365,
          0.808340827394096,
          1.6711022273852512,
          0.808340827394096,
          2.9973873541492893,
          6.500642308782684,
          2.759677379818961,
          6.500642308782684,
          2.9973873541492893,
          2.759677379818961,
          0.8587909748179167,
          8.2096593515385,
          2.8624187447358973,
          6.0439085267809265,
          1.4655831299126283,
          6.0439085267809265,
          8.835502851079903,
          6.0439085267809265,
          10.137136930630499,
          6.0439085267809265,
          3.2918550047733137,
          6.0439085267809265,
          3.927486748221161,
          1.4655831299126283,
          -4.71063240580565,
          3.917718793872658,
          2.680153595782803,
          -6.856235510701986,
          -11.503230920978607,
          -6.856235510701986,
          -6.281567912552746,
          -6.856235510701986,
          -4.71063240580565,
          -6.856235510701986,
          -8.36521823893393,
          -6.856235510701986,
          -4.060050571740059,
          -6.856235510701986,
          -3.8089074791080444,
          -6.856235510701986,
          -11.418119103068697,
          3.860744891057926,
          1.6971294420942742,
          -6.099594360842919,
          -4.060050571740059,
          8.414900456966304,
          2.977726551442538,
          2.977726551442538,
          3.2918550047733137,
          2.977726551442538,
          0.76200342437137,
          2.977726551442538,
          5.227271111265102,
          2.977726551442538,
          1.6711022273852512,
          2.977726551442538,
          -0.3557611033731158,
          0.76200342437137,
          2.844856475681033,
          0.76200342437137,
          4.670414055155743,
          0.76200342437137,
          -4.060050571740059,
          0.76200342437137,
          5.227271111265102,
          0.76200342437137,
          1.6711022273852512,
          0.76200342437137,
          -3.8089074791080444,
          0.76200342437137,
          2.8624187447358973,
          0.76200342437137,
          2.9973873541492893,
          2.844856475681033,
          4.559241761791937,
          6.84799974149121,
          11.14447606450428,
          6.84799974149121,
          2.9973873541492893,
          6.84799974149121,
          3.927486748221161,
          4.559241761791937,
          6.523011727632076,
          -2.844108035130966,
          -4.71063240580565,
          -4.060050571740059,
          -3.2820340014818457,
          -4.060050571740059,
          -8.056012553174492,
          -4.060050571740059,
          -5.847689308846366,
          -4.060050571740059,
          -7.007738033369727,
          -4.060050571740059,
          -7.995864920807969,
          -4.060050571740059,
          -8.36521823893393,
          -3.2820340014818457,
          0.8587909748179167,
          -8.056012553174492,
          -3.9162758413744365,
          -4.71063240580565,
          -7.649375097960032,
          -3.9162758413744365,
          -0.3557611033731158,
          0.8587909748179167,
          3.927486748221161,
          2.8624187447358973,
          -2.288206566076261,
          -14.141200945832963,
          -10.167564167934108,
          2.9973873541492893,
          5.537696915156948,
          2.9973873541492893,
          5.121641867011151,
          2.9973873541492893,
          -0.3557611033731158,
          2.9973873541492893,
          7.137164780523901,
          -3.8089074791080444,
          -8.614289670943753,
          -3.8089074791080444,
          -0.3557611033731158,
          5.537696915156948,
          3.927486748221161,
          -2.288206566076261,
          -1.7569505106757608,
          -1.7569505106757608,
          -7.039296615113263,
          -1.7569505106757608,
          3.927486748221161,
          7.137164780523901,
          8.572729653399797,
          3.927486748221161,
          8.572729653399797
         ]
        },
        {
         "hoverinfo": "text",
         "marker": {
          "color": "rgb(13,47,80)",
          "line": {
           "width": 2
          },
          "size": 25
         },
         "mode": "markers",
         "name": "Konfederacja",
         "showlegend": true,
         "text": "ArturDziambor",
         "type": "scatter",
         "x": [
          2.1382590143929
         ],
         "y": [
          0.8587909748179167
         ]
        },
        {
         "hoverinfo": "text",
         "marker": {
          "color": "rgb(13,47,80)",
          "line": {
           "width": 2
          },
          "size": 11.666666666666668
         },
         "mode": "markers",
         "name": "Konfederacja",
         "showlegend": false,
         "text": "JkmMikke",
         "type": "scatter",
         "x": [
          -7.393487179018038
         ],
         "y": [
          0.8065928676137766
         ]
        },
        {
         "hoverinfo": "text",
         "marker": {
          "color": "rgb(159, 50, 199)",
          "line": {
           "width": 2
          },
          "size": 21.66666666666667
         },
         "mode": "markers",
         "name": "Lewica",
         "showlegend": true,
         "text": "AM_Zukowska",
         "type": "scatter",
         "x": [
          -0.4352027127114025
         ],
         "y": [
          6.146176460062672
         ]
        },
        {
         "hoverinfo": "text",
         "marker": {
          "color": "rgb(159, 50, 199)",
          "line": {
           "width": 2
          },
          "size": 16.666666666666664
         },
         "mode": "markers",
         "name": "Lewica",
         "showlegend": false,
         "text": "m_gdula",
         "type": "scatter",
         "x": [
          0.006974509428206663
         ],
         "y": [
          1.7036628756420755
         ]
        },
        {
         "hoverinfo": "text",
         "marker": {
          "color": "rgb(159, 50, 199)",
          "line": {
           "width": 2
          },
          "size": 16.666666666666664
         },
         "mode": "markers",
         "name": "Lewica",
         "showlegend": false,
         "text": "K_Smiszek",
         "type": "scatter",
         "x": [
          7.636852126673872
         ],
         "y": [
          0.808340827394096
         ]
        },
        {
         "hoverinfo": "text",
         "marker": {
          "color": "rgb(159, 50, 199)",
          "line": {
           "width": 2
          },
          "size": 11.666666666666668
         },
         "mode": "markers",
         "name": "Lewica",
         "showlegend": false,
         "text": "MarcinKulasek",
         "type": "scatter",
         "x": [
          -1.447277277339078
         ],
         "y": [
          10.963332067730368
         ]
        },
        {
         "hoverinfo": "text",
         "marker": {
          "color": "rgb(159, 50, 199)",
          "line": {
           "width": 2
          },
          "size": 15
         },
         "mode": "markers",
         "name": "Lewica",
         "showlegend": false,
         "text": "KotulaKat",
         "type": "scatter",
         "x": [
          2.105364091549603
         ],
         "y": [
          6.500642308782684
         ]
        },
        {
         "hoverinfo": "text",
         "marker": {
          "color": "rgb(159, 50, 199)",
          "line": {
           "width": 2
          },
          "size": 13.333333333333332
         },
         "mode": "markers",
         "name": "Lewica",
         "showlegend": false,
         "text": "wlodekczarzasty",
         "type": "scatter",
         "x": [
          1.0495486306024444
         ],
         "y": [
          8.2096593515385
         ]
        },
        {
         "hoverinfo": "text",
         "marker": {
          "color": "rgb(169, 201, 252)",
          "line": {
           "width": 2
          },
          "size": 13.333333333333332
         },
         "mode": "markers",
         "name": "Polskie Sprawy",
         "showlegend": true,
         "text": "AgaScigaj",
         "type": "scatter",
         "x": [
          6.170770706275636
         ],
         "y": [
          7.137164780523901
         ]
        },
        {
         "hoverinfo": "text",
         "marker": {
          "color": "rgb(169, 201, 252)",
          "line": {
           "width": 2
          },
          "size": 23.33333333333333
         },
         "mode": "markers",
         "name": "Polskie Sprawy",
         "showlegend": false,
         "text": "P_Szramka",
         "type": "scatter",
         "x": [
          0.558283636474663
         ],
         "y": [
          3.927486748221161
         ]
        },
        {
         "hoverinfo": "text",
         "marker": {
          "color": "rgb(169, 201, 252)",
          "line": {
           "width": 2
          },
          "size": 13.333333333333332
         },
         "mode": "markers",
         "name": "Polskie Sprawy",
         "showlegend": false,
         "text": "PolskieSprawyPS",
         "type": "scatter",
         "x": [
          2.346811140973443
         ],
         "y": [
          8.572729653399797
         ]
        },
        {
         "hoverinfo": "text",
         "marker": {
          "color": "rgb(46, 211, 151)",
          "line": {
           "width": 2
          },
          "size": 13.333333333333332
         },
         "mode": "markers",
         "name": "Koalicja Polska",
         "showlegend": true,
         "text": "KosiniakKamysz",
         "type": "scatter",
         "x": [
          6.316349447963275
         ],
         "y": [
          4.2154820937831525
         ]
        },
        {
         "hoverinfo": "text",
         "marker": {
          "color": "rgb(46, 211, 151)",
          "line": {
           "width": 2
          },
          "size": 11.666666666666668
         },
         "mode": "markers",
         "name": "Koalicja Polska",
         "showlegend": false,
         "text": "ProtasiewiczJ",
         "type": "scatter",
         "x": [
          -1.998198911009484
         ],
         "y": [
          -11.503230920978607
         ]
        },
        {
         "hoverinfo": "text",
         "marker": {
          "color": "rgb(46, 211, 151)",
          "line": {
           "width": 2
          },
          "size": 11.666666666666668
         },
         "mode": "markers",
         "name": "Koalicja Polska",
         "showlegend": false,
         "text": "DariuszKlimczak",
         "type": "scatter",
         "x": [
          -0.7806218550119942
         ],
         "y": [
          3.860744891057926
         ]
        },
        {
         "hoverinfo": "text",
         "marker": {
          "color": "rgb(46, 211, 151)",
          "line": {
           "width": 2
          },
          "size": 11.666666666666668
         },
         "mode": "markers",
         "name": "Koalicja Polska",
         "showlegend": false,
         "text": "nowePSL",
         "type": "scatter",
         "x": [
          -3.554206412078201
         ],
         "y": [
          1.6971294420942742
         ]
        },
        {
         "hoverinfo": "text",
         "marker": {
          "color": "rgb(46, 211, 151)",
          "line": {
           "width": 2
          },
          "size": 11.666666666666668
         },
         "mode": "markers",
         "name": "Koalicja Polska",
         "showlegend": false,
         "text": "PZgorzelskiP",
         "type": "scatter",
         "x": [
          5.460970766362163
         ],
         "y": [
          11.14447606450428
         ]
        },
        {
         "hoverinfo": "text",
         "marker": {
          "color": "rgb(245, 169, 5)",
          "line": {
           "width": 2
          },
          "size": 20
         },
         "mode": "markers",
         "name": "Polska 2050",
         "showlegend": true,
         "text": "szymon_holownia",
         "type": "scatter",
         "x": [
          -4.23357870608486
         ],
         "y": [
          6.0439085267809265
         ]
        },
        {
         "hoverinfo": "text",
         "marker": {
          "color": "rgb(245, 169, 5)",
          "line": {
           "width": 2
          },
          "size": 13.333333333333332
         },
         "mode": "markers",
         "name": "Polska 2050",
         "showlegend": false,
         "text": "rozathun",
         "type": "scatter",
         "x": [
          -8.498964349132578
         ],
         "y": [
          1.4655831299126283
         ]
        },
        {
         "hoverinfo": "text",
         "marker": {
          "color": "rgb(245, 169, 5)",
          "line": {
           "width": 2
          },
          "size": 11.666666666666668
         },
         "mode": "markers",
         "name": "Polska 2050",
         "showlegend": false,
         "text": "joannamucha",
         "type": "scatter",
         "x": [
          -7.646306921893899
         ],
         "y": [
          8.835502851079903
         ]
        },
        {
         "hoverinfo": "text",
         "marker": {
          "color": "rgb(245, 169, 5)",
          "line": {
           "width": 2
          },
          "size": 11.666666666666668
         },
         "mode": "markers",
         "name": "Polska 2050",
         "showlegend": false,
         "text": "HannaGillPiatek",
         "type": "scatter",
         "x": [
          0.4065854202686388
         ],
         "y": [
          3.917718793872658
         ]
        },
        {
         "hoverinfo": "text",
         "marker": {
          "color": "rgb(245, 169, 5)",
          "line": {
           "width": 2
          },
          "size": 11.666666666666668
         },
         "mode": "markers",
         "name": "Polska 2050",
         "showlegend": false,
         "text": "tzimoch",
         "type": "scatter",
         "x": [
          -2.8862006526028527
         ],
         "y": [
          2.680153595782803
         ]
        },
        {
         "hoverinfo": "text",
         "marker": {
          "color": "rgb(245, 169, 5)",
          "line": {
           "width": 2
          },
          "size": 15
         },
         "mode": "markers",
         "name": "Polska 2050",
         "showlegend": false,
         "text": "McGramat",
         "type": "scatter",
         "x": [
          -4.944276818984257
         ],
         "y": [
          3.2918550047733137
         ]
        },
        {
         "hoverinfo": "text",
         "marker": {
          "color": "rgb(7, 61, 134)",
          "line": {
           "width": 2
          },
          "size": 18.333333333333336
         },
         "mode": "markers",
         "name": "Koalicja Obywatelska",
         "showlegend": true,
         "text": "gajewska_kinga",
         "type": "scatter",
         "x": [
          -3.829929232827646
         ],
         "y": [
          1.5591813777542696
         ]
        },
        {
         "hoverinfo": "text",
         "marker": {
          "color": "rgb(7, 61, 134)",
          "line": {
           "width": 2
          },
          "size": 23.33333333333333
         },
         "mode": "markers",
         "name": "Koalicja Obywatelska",
         "showlegend": false,
         "text": "MJanyska",
         "type": "scatter",
         "x": [
          -3.607717073600469
         ],
         "y": [
          -5.346394510272192
         ]
        },
        {
         "hoverinfo": "text",
         "marker": {
          "color": "rgb(7, 61, 134)",
          "line": {
           "width": 2
          },
          "size": 15
         },
         "mode": "markers",
         "name": "Koalicja Obywatelska",
         "showlegend": false,
         "text": "bbudka",
         "type": "scatter",
         "x": [
          -10.99514760645197
         ],
         "y": [
          -3.916031987266776
         ]
        },
        {
         "hoverinfo": "text",
         "marker": {
          "color": "rgb(7, 61, 134)",
          "line": {
           "width": 2
          },
          "size": 30
         },
         "mode": "markers",
         "name": "Koalicja Obywatelska",
         "showlegend": false,
         "text": "KLubnauer",
         "type": "scatter",
         "x": [
          -2.8996914060104757
         ],
         "y": [
          -0.31652879182060245
         ]
        },
        {
         "hoverinfo": "text",
         "marker": {
          "color": "rgb(7, 61, 134)",
          "line": {
           "width": 2
          },
          "size": 23.33333333333333
         },
         "mode": "markers",
         "name": "Koalicja Obywatelska",
         "showlegend": false,
         "text": "BZdrojewska",
         "type": "scatter",
         "x": [
          -1.6268517262135536
         ],
         "y": [
          -6.856235510701986
         ]
        },
        {
         "hoverinfo": "text",
         "marker": {
          "color": "rgb(7, 61, 134)",
          "line": {
           "width": 2
          },
          "size": 15
         },
         "mode": "markers",
         "name": "Koalicja Obywatelska",
         "showlegend": false,
         "text": "SlawomirNitras",
         "type": "scatter",
         "x": [
          0.7082672070775957
         ],
         "y": [
          -6.099594360842919
         ]
        },
        {
         "hoverinfo": "text",
         "marker": {
          "color": "rgb(7, 61, 134)",
          "line": {
           "width": 2
          },
          "size": 21.66666666666667
         },
         "mode": "markers",
         "name": "Koalicja Obywatelska",
         "showlegend": false,
         "text": "adamSzlapka",
         "type": "scatter",
         "x": [
          -1.6436261240071697
         ],
         "y": [
          2.977726551442538
         ]
        },
        {
         "hoverinfo": "text",
         "marker": {
          "color": "rgb(7, 61, 134)",
          "line": {
           "width": 2
          },
          "size": 26.66666666666667
         },
         "mode": "markers",
         "name": "Koalicja Obywatelska",
         "showlegend": false,
         "text": "GoTracz",
         "type": "scatter",
         "x": [
          -1.1375360965131671
         ],
         "y": [
          0.76200342437137
         ]
        },
        {
         "hoverinfo": "text",
         "marker": {
          "color": "rgb(7, 61, 134)",
          "line": {
           "width": 2
          },
          "size": 13.333333333333332
         },
         "mode": "markers",
         "name": "Koalicja Obywatelska",
         "showlegend": false,
         "text": "piotr_borys",
         "type": "scatter",
         "x": [
          -6.293862998551196
         ],
         "y": [
          2.844856475681033
         ]
        },
        {
         "hoverinfo": "text",
         "marker": {
          "color": "rgb(7, 61, 134)",
          "line": {
           "width": 2
          },
          "size": 15
         },
         "mode": "markers",
         "name": "Koalicja Obywatelska",
         "showlegend": false,
         "text": "MichalSzczerba",
         "type": "scatter",
         "x": [
          3.6299456033056057
         ],
         "y": [
          6.84799974149121
         ]
        },
        {
         "hoverinfo": "text",
         "marker": {
          "color": "rgb(7, 61, 134)",
          "line": {
           "width": 2
          },
          "size": 15
         },
         "mode": "markers",
         "name": "Koalicja Obywatelska",
         "showlegend": false,
         "text": "AndrzejHalicki",
         "type": "scatter",
         "x": [
          -8.429957358095765
         ],
         "y": [
          4.559241761791937
         ]
        },
        {
         "hoverinfo": "text",
         "marker": {
          "color": "rgb(7, 61, 134)",
          "line": {
           "width": 2
          },
          "size": 11.666666666666668
         },
         "mode": "markers",
         "name": "Koalicja Obywatelska",
         "showlegend": false,
         "text": "SchetynadlaPO",
         "type": "scatter",
         "x": [
          15.252479160601105
         ],
         "y": [
          4.756735522563416
         ]
        },
        {
         "hoverinfo": "text",
         "marker": {
          "color": "rgb(7, 61, 134)",
          "line": {
           "width": 2
          },
          "size": 15
         },
         "mode": "markers",
         "name": "Koalicja Obywatelska",
         "showlegend": false,
         "text": "Arlukowicz",
         "type": "scatter",
         "x": [
          -5.785728219410922
         ],
         "y": [
          -2.844108035130966
         ]
        },
        {
         "hoverinfo": "text",
         "marker": {
          "color": "rgb(7, 61, 134)",
          "line": {
           "width": 2
          },
          "size": 11.666666666666668
         },
         "mode": "markers",
         "name": "Koalicja Obywatelska",
         "showlegend": false,
         "text": "Zieloni",
         "type": "scatter",
         "x": [
          -4.988201942786079
         ],
         "y": [
          4.670414055155743
         ]
        },
        {
         "hoverinfo": "text",
         "marker": {
          "color": "rgb(7, 61, 134)",
          "line": {
           "width": 2
          },
          "size": 28.33333333333333
         },
         "mode": "markers",
         "name": "Koalicja Obywatelska",
         "showlegend": false,
         "text": "pomaska",
         "type": "scatter",
         "x": [
          -2.558750139818583
         ],
         "y": [
          -4.060050571740059
         ]
        },
        {
         "hoverinfo": "text",
         "marker": {
          "color": "rgb(7, 61, 134)",
          "line": {
           "width": 2
          },
          "size": 13.333333333333332
         },
         "mode": "markers",
         "name": "Koalicja Obywatelska",
         "showlegend": false,
         "text": "CTomczyk",
         "type": "scatter",
         "x": [
          1.439906144951354
         ],
         "y": [
          -3.2820340014818457
         ]
        },
        {
         "hoverinfo": "text",
         "marker": {
          "color": "rgb(7, 61, 134)",
          "line": {
           "width": 2
          },
          "size": 13.333333333333332
         },
         "mode": "markers",
         "name": "Koalicja Obywatelska",
         "showlegend": false,
         "text": "Gasiuk_Pihowicz",
         "type": "scatter",
         "x": [
          -0.3625864063546036
         ],
         "y": [
          -8.056012553174492
         ]
        },
        {
         "hoverinfo": "text",
         "marker": {
          "color": "rgb(7, 61, 134)",
          "line": {
           "width": 2
          },
          "size": 11.666666666666668
         },
         "mode": "markers",
         "name": "Koalicja Obywatelska",
         "showlegend": false,
         "text": "AGajewska",
         "type": "scatter",
         "x": [
          -7.172574521345338
         ],
         "y": [
          -5.847689308846366
         ]
        },
        {
         "hoverinfo": "text",
         "marker": {
          "color": "rgb(7, 61, 134)",
          "line": {
           "width": 2
          },
          "size": 11.666666666666668
         },
         "mode": "markers",
         "name": "Koalicja Obywatelska",
         "showlegend": false,
         "text": "Dariusz_Jonski",
         "type": "scatter",
         "x": [
          9.148050883547747
         ],
         "y": [
          -3.8504863873531354
         ]
        },
        {
         "hoverinfo": "text",
         "marker": {
          "color": "rgb(7, 61, 134)",
          "line": {
           "width": 2
          },
          "size": 20
         },
         "mode": "markers",
         "name": "Koalicja Obywatelska",
         "showlegend": false,
         "text": "szejnfeld",
         "type": "scatter",
         "x": [
          -7.064570912877252
         ],
         "y": [
          -4.71063240580565
         ]
        },
        {
         "hoverinfo": "text",
         "marker": {
          "color": "rgb(7, 61, 134)",
          "line": {
           "width": 2
          },
          "size": 18.333333333333336
         },
         "mode": "markers",
         "name": "Koalicja Obywatelska",
         "showlegend": false,
         "text": "DorotaNiedziela",
         "type": "scatter",
         "x": [
          -0.7241395404181206
         ],
         "y": [
          -3.9162758413744365
         ]
        },
        {
         "hoverinfo": "text",
         "marker": {
          "color": "rgb(7, 61, 134)",
          "line": {
           "width": 2
          },
          "size": 11.666666666666668
         },
         "mode": "markers",
         "name": "Koalicja Obywatelska",
         "showlegend": false,
         "text": "SlawekNeumann",
         "type": "scatter",
         "x": [
          7.755105189519986
         ],
         "y": [
          -7.137230274565937
         ]
        },
        {
         "hoverinfo": "text",
         "marker": {
          "color": "rgb(7, 61, 134)",
          "line": {
           "width": 2
          },
          "size": 15
         },
         "mode": "markers",
         "name": "Koalicja Obywatelska",
         "showlegend": false,
         "text": "GiertychRoman",
         "type": "scatter",
         "x": [
          3.680117631741176
         ],
         "y": [
          -6.281567912552746
         ]
        },
        {
         "hoverinfo": "text",
         "marker": {
          "color": "rgb(7, 61, 134)",
          "line": {
           "width": 2
          },
          "size": 11.666666666666668
         },
         "mode": "markers",
         "name": "Koalicja Obywatelska",
         "showlegend": false,
         "text": "OlekMiszalski",
         "type": "scatter",
         "x": [
          -6.140532709595033
         ],
         "y": [
          -7.007738033369727
         ]
        },
        {
         "hoverinfo": "text",
         "marker": {
          "color": "rgb(7, 61, 134)",
          "line": {
           "width": 2
          },
          "size": 11.666666666666668
         },
         "mode": "markers",
         "name": "Koalicja Obywatelska",
         "showlegend": false,
         "text": "m_bochenek93",
         "type": "scatter",
         "x": [
          -4.85702852153565
         ],
         "y": [
          -7.995864920807969
         ]
        },
        {
         "hoverinfo": "text",
         "marker": {
          "color": "rgb(7, 61, 134)",
          "line": {
           "width": 2
          },
          "size": 13.333333333333332
         },
         "mode": "markers",
         "name": "Koalicja Obywatelska",
         "showlegend": false,
         "text": "gapinska_e",
         "type": "scatter",
         "x": [
          -2.9455567357293164
         ],
         "y": [
          -8.36521823893393
         ]
        },
        {
         "hoverinfo": "text",
         "marker": {
          "color": "rgb(7, 61, 134)",
          "line": {
           "width": 2
          },
          "size": 11.666666666666668
         },
         "mode": "markers",
         "name": "Koalicja Obywatelska",
         "showlegend": false,
         "text": "elukacijewska",
         "type": "scatter",
         "x": [
          -10.413373022761037
         ],
         "y": [
          -7.649375097960032
         ]
        },
        {
         "hoverinfo": "text",
         "marker": {
          "color": "rgb(7, 61, 134)",
          "line": {
           "width": 2
          },
          "size": 13.333333333333332
         },
         "mode": "markers",
         "name": "Koalicja Obywatelska",
         "showlegend": false,
         "text": "moanrosa",
         "type": "scatter",
         "x": [
          -2.5792657881692755
         ],
         "y": [
          5.227271111265102
         ]
        },
        {
         "hoverinfo": "text",
         "marker": {
          "color": "rgb(7, 61, 134)",
          "line": {
           "width": 2
          },
          "size": 16.666666666666664
         },
         "mode": "markers",
         "name": "Koalicja Obywatelska",
         "showlegend": false,
         "text": "TomaszSiemoniak",
         "type": "scatter",
         "x": [
          1.8176425460385508
         ],
         "y": [
          2.8624187447358973
         ]
        },
        {
         "hoverinfo": "text",
         "marker": {
          "color": "rgb(7, 61, 134)",
          "line": {
           "width": 2
          },
          "size": 11.666666666666668
         },
         "mode": "markers",
         "name": "Koalicja Obywatelska",
         "showlegend": false,
         "text": "LasekMaciej",
         "type": "scatter",
         "x": [
          -12.142654436297594
         ],
         "y": [
          6.523011727632076
         ]
        },
        {
         "hoverinfo": "text",
         "marker": {
          "color": "rgb(7, 61, 134)",
          "line": {
           "width": 2
          },
          "size": 11.666666666666668
         },
         "mode": "markers",
         "name": "Koalicja Obywatelska",
         "showlegend": false,
         "text": "ikatarasinska",
         "type": "scatter",
         "x": [
          8.803389756154195
         ],
         "y": [
          -5.763697357948702
         ]
        },
        {
         "hoverinfo": "text",
         "marker": {
          "color": "rgb(7, 61, 134)",
          "line": {
           "width": 2
          },
          "size": 11.666666666666668
         },
         "mode": "markers",
         "name": "Koalicja Obywatelska",
         "showlegend": false,
         "text": "MarekBorowski",
         "type": "scatter",
         "x": [
          -6.018759293551641
         ],
         "y": [
          10.137136930630499
         ]
        },
        {
         "hoverinfo": "text",
         "marker": {
          "color": "rgb(7, 61, 134)",
          "line": {
           "width": 2
          },
          "size": 11.666666666666668
         },
         "mode": "markers",
         "name": "Koalicja Obywatelska",
         "showlegend": false,
         "text": "MarcinBosacki",
         "type": "scatter",
         "x": [
          -6.515772758324669
         ],
         "y": [
          -14.141200945832963
         ]
        },
        {
         "hoverinfo": "text",
         "marker": {
          "color": "rgb(7, 61, 134)",
          "line": {
           "width": 2
          },
          "size": 13.333333333333332
         },
         "mode": "markers",
         "name": "Koalicja Obywatelska",
         "showlegend": false,
         "text": "RTyszkiewicz",
         "type": "scatter",
         "x": [
          -5.389849056239594
         ],
         "y": [
          -10.167564167934108
         ]
        },
        {
         "hoverinfo": "text",
         "marker": {
          "color": "rgb(7, 61, 134)",
          "line": {
           "width": 2
          },
          "size": 11.666666666666668
         },
         "mode": "markers",
         "name": "Koalicja Obywatelska",
         "showlegend": false,
         "text": "donaldtusk",
         "type": "scatter",
         "x": [
          20
         ],
         "y": [
          -0.27701773108547045
         ]
        },
        {
         "hoverinfo": "text",
         "marker": {
          "color": "rgb(7, 61, 134)",
          "line": {
           "width": 2
          },
          "size": 11.666666666666668
         },
         "mode": "markers",
         "name": "Koalicja Obywatelska",
         "showlegend": false,
         "text": "Platforma_org",
         "type": "scatter",
         "x": [
          13.35754327610037
         ],
         "y": [
          -0.22561941783800976
         ]
        },
        {
         "hoverinfo": "text",
         "marker": {
          "color": "rgb(7, 61, 134)",
          "line": {
           "width": 2
          },
          "size": 15
         },
         "mode": "markers",
         "name": "Koalicja Obywatelska",
         "showlegend": false,
         "text": "f_sterczewski",
         "type": "scatter",
         "x": [
          3.4838475422498636
         ],
         "y": [
          1.6711022273852512
         ]
        },
        {
         "hoverinfo": "text",
         "marker": {
          "color": "rgb(7, 61, 134)",
          "line": {
           "width": 2
          },
          "size": 25
         },
         "mode": "markers",
         "name": "Koalicja Obywatelska",
         "showlegend": false,
         "text": "OklaDrewnowicz",
         "type": "scatter",
         "x": [
          3.967104110830937
         ],
         "y": [
          2.9973873541492893
         ]
        },
        {
         "hoverinfo": "text",
         "marker": {
          "color": "rgb(7, 61, 134)",
          "line": {
           "width": 2
          },
          "size": 18.333333333333336
         },
         "mode": "markers",
         "name": "Koalicja Obywatelska",
         "showlegend": false,
         "text": "M_K_Blonska",
         "type": "scatter",
         "x": [
          0.7146186324307094
         ],
         "y": [
          -3.8089074791080444
         ]
        },
        {
         "hoverinfo": "text",
         "marker": {
          "color": "rgb(7, 61, 134)",
          "line": {
           "width": 2
          },
          "size": 13.333333333333332
         },
         "mode": "markers",
         "name": "Koalicja Obywatelska",
         "showlegend": false,
         "text": "MKierwinski",
         "type": "scatter",
         "x": [
          3.9312756129373265
         ],
         "y": [
          5.537696915156948
         ]
        },
        {
         "hoverinfo": "text",
         "marker": {
          "color": "rgb(7, 61, 134)",
          "line": {
           "width": 2
          },
          "size": 11.666666666666668
         },
         "mode": "markers",
         "name": "Koalicja Obywatelska",
         "showlegend": false,
         "text": "JagnaMarczulajt",
         "type": "scatter",
         "x": [
          8.062916164404982
         ],
         "y": [
          5.121641867011151
         ]
        },
        {
         "hoverinfo": "text",
         "marker": {
          "color": "rgb(7, 61, 134)",
          "line": {
           "width": 2
          },
          "size": 11.666666666666668
         },
         "mode": "markers",
         "name": "Koalicja Obywatelska",
         "showlegend": false,
         "text": "JRotnicka",
         "type": "scatter",
         "x": [
          3.8478272096011903
         ],
         "y": [
          -8.614289670943753
         ]
        },
        {
         "hoverinfo": "text",
         "marker": {
          "color": "rgb(7, 61, 134)",
          "line": {
           "width": 2
          },
          "size": 11.666666666666668
         },
         "mode": "markers",
         "name": "Koalicja Obywatelska",
         "showlegend": false,
         "text": "WZembaczynski",
         "type": "scatter",
         "x": [
          -7.52816291964097
         ],
         "y": [
          -0.40944534677619776
         ]
        },
        {
         "hoverinfo": "text",
         "marker": {
          "color": "rgb(7, 61, 134)",
          "line": {
           "width": 2
          },
          "size": 21.66666666666667
         },
         "mode": "markers",
         "name": "Koalicja Obywatelska",
         "showlegend": false,
         "text": "barbaraanowacka",
         "type": "scatter",
         "x": [
          0.5819715544449823
         ],
         "y": [
          -0.3557611033731158
         ]
        },
        {
         "hoverinfo": "text",
         "marker": {
          "color": "rgb(7, 61, 134)",
          "line": {
           "width": 2
          },
          "size": 13.333333333333332
         },
         "mode": "markers",
         "name": "Koalicja Obywatelska",
         "showlegend": false,
         "text": "MGolbik",
         "type": "scatter",
         "x": [
          3.5046515386579173
         ],
         "y": [
          -2.288206566076261
         ]
        },
        {
         "hoverinfo": "text",
         "marker": {
          "color": "rgb(7, 61, 134)",
          "line": {
           "width": 2
          },
          "size": 18.333333333333336
         },
         "mode": "markers",
         "name": "Koalicja Obywatelska",
         "showlegend": false,
         "text": "ArkadiuszMyrcha",
         "type": "scatter",
         "x": [
          -0.8932696798999636
         ],
         "y": [
          -1.7569505106757608
         ]
        },
        {
         "hoverinfo": "text",
         "marker": {
          "color": "rgb(7, 61, 134)",
          "line": {
           "width": 2
          },
          "size": 11.666666666666668
         },
         "mode": "markers",
         "name": "Koalicja Obywatelska",
         "showlegend": false,
         "text": "sibinska",
         "type": "scatter",
         "x": [
          2.3594000127058328
         ],
         "y": [
          -7.039296615113263
         ]
        },
        {
         "hoverinfo": "text",
         "marker": {
          "color": "rgb(7, 61, 134)",
          "line": {
           "width": 2
          },
          "size": 11.666666666666668
         },
         "mode": "markers",
         "name": "Koalicja Obywatelska",
         "showlegend": false,
         "text": "CzarnobajLeszek",
         "type": "scatter",
         "x": [
          -0.08998157572590784
         ],
         "y": [
          -11.418119103068697
         ]
        },
        {
         "hoverinfo": "text",
         "marker": {
          "color": "rgb(255, 40, 92)",
          "line": {
           "width": 2
          },
          "size": 15
         },
         "mode": "markers",
         "name": "PiS",
         "showlegend": true,
         "text": "SzczurekZelazko",
         "type": "scatter",
         "x": [
          9.132113002520937
         ],
         "y": [
          0.7880627796719262
         ]
        },
        {
         "hoverinfo": "text",
         "marker": {
          "color": "rgb(255, 40, 92)",
          "line": {
           "width": 2
          },
          "size": 21.66666666666667
         },
         "mode": "markers",
         "name": "PiS",
         "showlegend": false,
         "text": "MosinskiJan",
         "type": "scatter",
         "x": [
          5.073936177852928
         ],
         "y": [
          -3.375975409328598
         ]
        },
        {
         "hoverinfo": "text",
         "marker": {
          "color": "rgb(255, 40, 92)",
          "line": {
           "width": 2
          },
          "size": 13.333333333333332
         },
         "mode": "markers",
         "name": "PiS",
         "showlegend": false,
         "text": "AnnaSiarkowska",
         "type": "scatter",
         "x": [
          6.367755405854603
         ],
         "y": [
          -0.6400714197809454
         ]
        },
        {
         "hoverinfo": "text",
         "marker": {
          "color": "rgb(255, 40, 92)",
          "line": {
           "width": 2
          },
          "size": 15
         },
         "mode": "markers",
         "name": "PiS",
         "showlegend": false,
         "text": "CzarnekP",
         "type": "scatter",
         "x": [
          -7.353768647337323
         ],
         "y": [
          -2.494998273264373
         ]
        },
        {
         "hoverinfo": "text",
         "marker": {
          "color": "rgb(255, 40, 92)",
          "line": {
           "width": 2
          },
          "size": 18.333333333333336
         },
         "mode": "markers",
         "name": "PiS",
         "showlegend": false,
         "text": "gontarz93",
         "type": "scatter",
         "x": [
          4.974056252323009
         ],
         "y": [
          -1.571151904320052
         ]
        },
        {
         "hoverinfo": "text",
         "marker": {
          "color": "rgb(255, 40, 92)",
          "line": {
           "width": 2
          },
          "size": 13.333333333333332
         },
         "mode": "markers",
         "name": "PiS",
         "showlegend": false,
         "text": "MariuszGosek",
         "type": "scatter",
         "x": [
          16.20401106103185
         ],
         "y": [
          0.2006167285808104
         ]
        },
        {
         "hoverinfo": "text",
         "marker": {
          "color": "rgb(255, 40, 92)",
          "line": {
           "width": 2
          },
          "size": 15
         },
         "mode": "markers",
         "name": "PiS",
         "showlegend": false,
         "text": "JKowalski_posel",
         "type": "scatter",
         "x": [
          12.221075523431729
         ],
         "y": [
          1.702381540754358
         ]
        },
        {
         "hoverinfo": "text",
         "marker": {
          "color": "rgb(255, 40, 92)",
          "line": {
           "width": 2
          },
          "size": 15
         },
         "mode": "markers",
         "name": "PiS",
         "showlegend": false,
         "text": "radekfogiel",
         "type": "scatter",
         "x": [
          -0.40542709830373475
         ],
         "y": [
          2.759677379818961
         ]
        },
        {
         "hoverinfo": "text",
         "marker": {
          "color": "rgb(255, 40, 92)",
          "line": {
           "width": 2
          },
          "size": 11.666666666666668
         },
         "mode": "markers",
         "name": "PiS",
         "showlegend": false,
         "text": "FilipKaczynski",
         "type": "scatter",
         "x": [
          -3.170663564908275
         ],
         "y": [
          8.414900456966304
         ]
        },
        {
         "hoverinfo": "text",
         "marker": {
          "color": "rgb(255, 40, 92)",
          "line": {
           "width": 2
          },
          "size": 11.666666666666668
         },
         "mode": "markers",
         "name": "PiS",
         "showlegend": false,
         "text": "WZubowski",
         "type": "scatter",
         "x": [
          -14.923897340534047
         ],
         "y": [
          -4.763728735430261
         ]
        },
        {
         "hoverinfo": "text",
         "marker": {
          "color": "rgb(252, 3, 19)",
          "line": {
           "width": 2
          },
          "size": 11.666666666666668
         },
         "mode": "markers",
         "name": "PPS",
         "showlegend": true,
         "text": "senyszyn_joanna",
         "type": "scatter",
         "x": [
          0.9727209276271818
         ],
         "y": [
          11.174621766771374
         ]
        },
        {
         "hoverinfo": "text",
         "marker": {
          "color": "rgb(252, 3, 19)",
          "line": {
           "width": 2
          },
          "size": 18.333333333333336
         },
         "mode": "markers",
         "name": "PPS",
         "showlegend": false,
         "text": "GabrielaMorStan",
         "type": "scatter",
         "x": [
          3.115686027214447
         ],
         "y": [
          -0.607486476841496
         ]
        },
        {
         "hoverinfo": "text",
         "marker": {
          "color": "rgb(252, 3, 19)",
          "line": {
           "width": 2
          },
          "size": 15
         },
         "mode": "markers",
         "name": "PPS",
         "showlegend": false,
         "text": "ARozenek",
         "type": "scatter",
         "x": [
          -3.9970273964199468
         ],
         "y": [
          -2.1214318504298433
         ]
        }
       ],
       "layout": {
        "height": 600,
        "legend": {
         "title": {
          "text": "Partia"
         }
        },
        "showlegend": true,
        "template": {
         "data": {
          "bar": [
           {
            "error_x": {
             "color": "#2a3f5f"
            },
            "error_y": {
             "color": "#2a3f5f"
            },
            "marker": {
             "line": {
              "color": "#E5ECF6",
              "width": 0.5
             },
             "pattern": {
              "fillmode": "overlay",
              "size": 10,
              "solidity": 0.2
             }
            },
            "type": "bar"
           }
          ],
          "barpolar": [
           {
            "marker": {
             "line": {
              "color": "#E5ECF6",
              "width": 0.5
             },
             "pattern": {
              "fillmode": "overlay",
              "size": 10,
              "solidity": 0.2
             }
            },
            "type": "barpolar"
           }
          ],
          "carpet": [
           {
            "aaxis": {
             "endlinecolor": "#2a3f5f",
             "gridcolor": "white",
             "linecolor": "white",
             "minorgridcolor": "white",
             "startlinecolor": "#2a3f5f"
            },
            "baxis": {
             "endlinecolor": "#2a3f5f",
             "gridcolor": "white",
             "linecolor": "white",
             "minorgridcolor": "white",
             "startlinecolor": "#2a3f5f"
            },
            "type": "carpet"
           }
          ],
          "choropleth": [
           {
            "colorbar": {
             "outlinewidth": 0,
             "ticks": ""
            },
            "type": "choropleth"
           }
          ],
          "contour": [
           {
            "colorbar": {
             "outlinewidth": 0,
             "ticks": ""
            },
            "colorscale": [
             [
              0,
              "#0d0887"
             ],
             [
              0.1111111111111111,
              "#46039f"
             ],
             [
              0.2222222222222222,
              "#7201a8"
             ],
             [
              0.3333333333333333,
              "#9c179e"
             ],
             [
              0.4444444444444444,
              "#bd3786"
             ],
             [
              0.5555555555555556,
              "#d8576b"
             ],
             [
              0.6666666666666666,
              "#ed7953"
             ],
             [
              0.7777777777777778,
              "#fb9f3a"
             ],
             [
              0.8888888888888888,
              "#fdca26"
             ],
             [
              1,
              "#f0f921"
             ]
            ],
            "type": "contour"
           }
          ],
          "contourcarpet": [
           {
            "colorbar": {
             "outlinewidth": 0,
             "ticks": ""
            },
            "type": "contourcarpet"
           }
          ],
          "heatmap": [
           {
            "colorbar": {
             "outlinewidth": 0,
             "ticks": ""
            },
            "colorscale": [
             [
              0,
              "#0d0887"
             ],
             [
              0.1111111111111111,
              "#46039f"
             ],
             [
              0.2222222222222222,
              "#7201a8"
             ],
             [
              0.3333333333333333,
              "#9c179e"
             ],
             [
              0.4444444444444444,
              "#bd3786"
             ],
             [
              0.5555555555555556,
              "#d8576b"
             ],
             [
              0.6666666666666666,
              "#ed7953"
             ],
             [
              0.7777777777777778,
              "#fb9f3a"
             ],
             [
              0.8888888888888888,
              "#fdca26"
             ],
             [
              1,
              "#f0f921"
             ]
            ],
            "type": "heatmap"
           }
          ],
          "heatmapgl": [
           {
            "colorbar": {
             "outlinewidth": 0,
             "ticks": ""
            },
            "colorscale": [
             [
              0,
              "#0d0887"
             ],
             [
              0.1111111111111111,
              "#46039f"
             ],
             [
              0.2222222222222222,
              "#7201a8"
             ],
             [
              0.3333333333333333,
              "#9c179e"
             ],
             [
              0.4444444444444444,
              "#bd3786"
             ],
             [
              0.5555555555555556,
              "#d8576b"
             ],
             [
              0.6666666666666666,
              "#ed7953"
             ],
             [
              0.7777777777777778,
              "#fb9f3a"
             ],
             [
              0.8888888888888888,
              "#fdca26"
             ],
             [
              1,
              "#f0f921"
             ]
            ],
            "type": "heatmapgl"
           }
          ],
          "histogram": [
           {
            "marker": {
             "pattern": {
              "fillmode": "overlay",
              "size": 10,
              "solidity": 0.2
             }
            },
            "type": "histogram"
           }
          ],
          "histogram2d": [
           {
            "colorbar": {
             "outlinewidth": 0,
             "ticks": ""
            },
            "colorscale": [
             [
              0,
              "#0d0887"
             ],
             [
              0.1111111111111111,
              "#46039f"
             ],
             [
              0.2222222222222222,
              "#7201a8"
             ],
             [
              0.3333333333333333,
              "#9c179e"
             ],
             [
              0.4444444444444444,
              "#bd3786"
             ],
             [
              0.5555555555555556,
              "#d8576b"
             ],
             [
              0.6666666666666666,
              "#ed7953"
             ],
             [
              0.7777777777777778,
              "#fb9f3a"
             ],
             [
              0.8888888888888888,
              "#fdca26"
             ],
             [
              1,
              "#f0f921"
             ]
            ],
            "type": "histogram2d"
           }
          ],
          "histogram2dcontour": [
           {
            "colorbar": {
             "outlinewidth": 0,
             "ticks": ""
            },
            "colorscale": [
             [
              0,
              "#0d0887"
             ],
             [
              0.1111111111111111,
              "#46039f"
             ],
             [
              0.2222222222222222,
              "#7201a8"
             ],
             [
              0.3333333333333333,
              "#9c179e"
             ],
             [
              0.4444444444444444,
              "#bd3786"
             ],
             [
              0.5555555555555556,
              "#d8576b"
             ],
             [
              0.6666666666666666,
              "#ed7953"
             ],
             [
              0.7777777777777778,
              "#fb9f3a"
             ],
             [
              0.8888888888888888,
              "#fdca26"
             ],
             [
              1,
              "#f0f921"
             ]
            ],
            "type": "histogram2dcontour"
           }
          ],
          "mesh3d": [
           {
            "colorbar": {
             "outlinewidth": 0,
             "ticks": ""
            },
            "type": "mesh3d"
           }
          ],
          "parcoords": [
           {
            "line": {
             "colorbar": {
              "outlinewidth": 0,
              "ticks": ""
             }
            },
            "type": "parcoords"
           }
          ],
          "pie": [
           {
            "automargin": true,
            "type": "pie"
           }
          ],
          "scatter": [
           {
            "marker": {
             "colorbar": {
              "outlinewidth": 0,
              "ticks": ""
             }
            },
            "type": "scatter"
           }
          ],
          "scatter3d": [
           {
            "line": {
             "colorbar": {
              "outlinewidth": 0,
              "ticks": ""
             }
            },
            "marker": {
             "colorbar": {
              "outlinewidth": 0,
              "ticks": ""
             }
            },
            "type": "scatter3d"
           }
          ],
          "scattercarpet": [
           {
            "marker": {
             "colorbar": {
              "outlinewidth": 0,
              "ticks": ""
             }
            },
            "type": "scattercarpet"
           }
          ],
          "scattergeo": [
           {
            "marker": {
             "colorbar": {
              "outlinewidth": 0,
              "ticks": ""
             }
            },
            "type": "scattergeo"
           }
          ],
          "scattergl": [
           {
            "marker": {
             "colorbar": {
              "outlinewidth": 0,
              "ticks": ""
             }
            },
            "type": "scattergl"
           }
          ],
          "scattermapbox": [
           {
            "marker": {
             "colorbar": {
              "outlinewidth": 0,
              "ticks": ""
             }
            },
            "type": "scattermapbox"
           }
          ],
          "scatterpolar": [
           {
            "marker": {
             "colorbar": {
              "outlinewidth": 0,
              "ticks": ""
             }
            },
            "type": "scatterpolar"
           }
          ],
          "scatterpolargl": [
           {
            "marker": {
             "colorbar": {
              "outlinewidth": 0,
              "ticks": ""
             }
            },
            "type": "scatterpolargl"
           }
          ],
          "scatterternary": [
           {
            "marker": {
             "colorbar": {
              "outlinewidth": 0,
              "ticks": ""
             }
            },
            "type": "scatterternary"
           }
          ],
          "surface": [
           {
            "colorbar": {
             "outlinewidth": 0,
             "ticks": ""
            },
            "colorscale": [
             [
              0,
              "#0d0887"
             ],
             [
              0.1111111111111111,
              "#46039f"
             ],
             [
              0.2222222222222222,
              "#7201a8"
             ],
             [
              0.3333333333333333,
              "#9c179e"
             ],
             [
              0.4444444444444444,
              "#bd3786"
             ],
             [
              0.5555555555555556,
              "#d8576b"
             ],
             [
              0.6666666666666666,
              "#ed7953"
             ],
             [
              0.7777777777777778,
              "#fb9f3a"
             ],
             [
              0.8888888888888888,
              "#fdca26"
             ],
             [
              1,
              "#f0f921"
             ]
            ],
            "type": "surface"
           }
          ],
          "table": [
           {
            "cells": {
             "fill": {
              "color": "#EBF0F8"
             },
             "line": {
              "color": "white"
             }
            },
            "header": {
             "fill": {
              "color": "#C8D4E3"
             },
             "line": {
              "color": "white"
             }
            },
            "type": "table"
           }
          ]
         },
         "layout": {
          "annotationdefaults": {
           "arrowcolor": "#2a3f5f",
           "arrowhead": 0,
           "arrowwidth": 1
          },
          "autotypenumbers": "strict",
          "coloraxis": {
           "colorbar": {
            "outlinewidth": 0,
            "ticks": ""
           }
          },
          "colorscale": {
           "diverging": [
            [
             0,
             "#8e0152"
            ],
            [
             0.1,
             "#c51b7d"
            ],
            [
             0.2,
             "#de77ae"
            ],
            [
             0.3,
             "#f1b6da"
            ],
            [
             0.4,
             "#fde0ef"
            ],
            [
             0.5,
             "#f7f7f7"
            ],
            [
             0.6,
             "#e6f5d0"
            ],
            [
             0.7,
             "#b8e186"
            ],
            [
             0.8,
             "#7fbc41"
            ],
            [
             0.9,
             "#4d9221"
            ],
            [
             1,
             "#276419"
            ]
           ],
           "sequential": [
            [
             0,
             "#0d0887"
            ],
            [
             0.1111111111111111,
             "#46039f"
            ],
            [
             0.2222222222222222,
             "#7201a8"
            ],
            [
             0.3333333333333333,
             "#9c179e"
            ],
            [
             0.4444444444444444,
             "#bd3786"
            ],
            [
             0.5555555555555556,
             "#d8576b"
            ],
            [
             0.6666666666666666,
             "#ed7953"
            ],
            [
             0.7777777777777778,
             "#fb9f3a"
            ],
            [
             0.8888888888888888,
             "#fdca26"
            ],
            [
             1,
             "#f0f921"
            ]
           ],
           "sequentialminus": [
            [
             0,
             "#0d0887"
            ],
            [
             0.1111111111111111,
             "#46039f"
            ],
            [
             0.2222222222222222,
             "#7201a8"
            ],
            [
             0.3333333333333333,
             "#9c179e"
            ],
            [
             0.4444444444444444,
             "#bd3786"
            ],
            [
             0.5555555555555556,
             "#d8576b"
            ],
            [
             0.6666666666666666,
             "#ed7953"
            ],
            [
             0.7777777777777778,
             "#fb9f3a"
            ],
            [
             0.8888888888888888,
             "#fdca26"
            ],
            [
             1,
             "#f0f921"
            ]
           ]
          },
          "colorway": [
           "#636efa",
           "#EF553B",
           "#00cc96",
           "#ab63fa",
           "#FFA15A",
           "#19d3f3",
           "#FF6692",
           "#B6E880",
           "#FF97FF",
           "#FECB52"
          ],
          "font": {
           "color": "#2a3f5f"
          },
          "geo": {
           "bgcolor": "white",
           "lakecolor": "white",
           "landcolor": "#E5ECF6",
           "showlakes": true,
           "showland": true,
           "subunitcolor": "white"
          },
          "hoverlabel": {
           "align": "left"
          },
          "hovermode": "closest",
          "mapbox": {
           "style": "light"
          },
          "paper_bgcolor": "white",
          "plot_bgcolor": "#E5ECF6",
          "polar": {
           "angularaxis": {
            "gridcolor": "white",
            "linecolor": "white",
            "ticks": ""
           },
           "bgcolor": "#E5ECF6",
           "radialaxis": {
            "gridcolor": "white",
            "linecolor": "white",
            "ticks": ""
           }
          },
          "scene": {
           "xaxis": {
            "backgroundcolor": "#E5ECF6",
            "gridcolor": "white",
            "gridwidth": 2,
            "linecolor": "white",
            "showbackground": true,
            "ticks": "",
            "zerolinecolor": "white"
           },
           "yaxis": {
            "backgroundcolor": "#E5ECF6",
            "gridcolor": "white",
            "gridwidth": 2,
            "linecolor": "white",
            "showbackground": true,
            "ticks": "",
            "zerolinecolor": "white"
           },
           "zaxis": {
            "backgroundcolor": "#E5ECF6",
            "gridcolor": "white",
            "gridwidth": 2,
            "linecolor": "white",
            "showbackground": true,
            "ticks": "",
            "zerolinecolor": "white"
           }
          },
          "shapedefaults": {
           "line": {
            "color": "#2a3f5f"
           }
          },
          "ternary": {
           "aaxis": {
            "gridcolor": "white",
            "linecolor": "white",
            "ticks": ""
           },
           "baxis": {
            "gridcolor": "white",
            "linecolor": "white",
            "ticks": ""
           },
           "bgcolor": "#E5ECF6",
           "caxis": {
            "gridcolor": "white",
            "linecolor": "white",
            "ticks": ""
           }
          },
          "title": {
           "x": 0.05
          },
          "xaxis": {
           "automargin": true,
           "gridcolor": "white",
           "linecolor": "white",
           "ticks": "",
           "title": {
            "standoff": 15
           },
           "zerolinecolor": "white",
           "zerolinewidth": 2
          },
          "yaxis": {
           "automargin": true,
           "gridcolor": "white",
           "linecolor": "white",
           "ticks": "",
           "title": {
            "standoff": 15
           },
           "zerolinecolor": "white",
           "zerolinewidth": 2
          }
         }
        },
        "title": {
         "font": {
          "size": 16
         },
         "text": "Interakcje między politykami",
         "x": 0.5,
         "xanchor": "center",
         "y": 0.9,
         "yanchor": "top"
        },
        "width": 1000,
        "xaxis": {
         "autorange": true,
         "range": [
          -17.30271397159091,
          22.378816631056864
         ],
         "showgrid": false,
         "showticklabels": false,
         "type": "linear",
         "zeroline": false
        },
        "yaxis": {
         "autorange": true,
         "range": [
          -16.11201539456701,
          13.14543621550542
         ],
         "showgrid": false,
         "showticklabels": false,
         "type": "linear",
         "zeroline": false
        }
       }
      },
      "image/png": "[encoded data removed]"
     },
     "metadata": {},
     "output_type": "display_data"
    }
   ],
   "source": [
    "nx_to_plotly(graph_politicians, \"parties.png\")"
   ]
  },
  {
   "cell_type": "code",
   "execution_count": 16,
   "metadata": {},
   "outputs": [
    {
     "data": {
      "application/vnd.plotly.v1+json": {
       "config": {
        "plotlyServerURL": "https://plot.ly"
       },
       "data": [
        {
         "alignmentgroup": "True",
         "bingroup": "x",
         "hovertemplate": "variable=0<br>value=%{x}<br>count=%{y}<extra></extra>",
         "legendgroup": "0",
         "marker": {
          "color": "#636efa",
          "pattern": {
           "shape": ""
          }
         },
         "name": "0",
         "offsetgroup": "0",
         "orientation": "v",
         "showlegend": true,
         "type": "histogram",
         "x": [
          3,
          2,
          7,
          2,
          5,
          3,
          8,
          3,
          12,
          5,
          2,
          3,
          1,
          7,
          4,
          5,
          3,
          4,
          1,
          3,
          3,
          2,
          6,
          2,
          1,
          1,
          1,
          8,
          1,
          1,
          1,
          3,
          1,
          7,
          3,
          10,
          2,
          3,
          1,
          3,
          1,
          3,
          1,
          11,
          2,
          2,
          1,
          1,
          6,
          5,
          1,
          3,
          1,
          1,
          9,
          1,
          1,
          2,
          1,
          2,
          4,
          1,
          1,
          1,
          1,
          2,
          1,
          1,
          3,
          9,
          5,
          2,
          1,
          1,
          1,
          7,
          2,
          5,
          1,
          1,
          2,
          8,
          2
         ],
         "xaxis": "x",
         "yaxis": "y"
        }
       ],
       "layout": {
        "barmode": "relative",
        "height": 600,
        "legend": {
         "title": {
          "text": "variable"
         },
         "tracegroupgap": 0
        },
        "showlegend": false,
        "template": {
         "data": {
          "bar": [
           {
            "error_x": {
             "color": "#2a3f5f"
            },
            "error_y": {
             "color": "#2a3f5f"
            },
            "marker": {
             "line": {
              "color": "#E5ECF6",
              "width": 0.5
             },
             "pattern": {
              "fillmode": "overlay",
              "size": 10,
              "solidity": 0.2
             }
            },
            "type": "bar"
           }
          ],
          "barpolar": [
           {
            "marker": {
             "line": {
              "color": "#E5ECF6",
              "width": 0.5
             },
             "pattern": {
              "fillmode": "overlay",
              "size": 10,
              "solidity": 0.2
             }
            },
            "type": "barpolar"
           }
          ],
          "carpet": [
           {
            "aaxis": {
             "endlinecolor": "#2a3f5f",
             "gridcolor": "white",
             "linecolor": "white",
             "minorgridcolor": "white",
             "startlinecolor": "#2a3f5f"
            },
            "baxis": {
             "endlinecolor": "#2a3f5f",
             "gridcolor": "white",
             "linecolor": "white",
             "minorgridcolor": "white",
             "startlinecolor": "#2a3f5f"
            },
            "type": "carpet"
           }
          ],
          "choropleth": [
           {
            "colorbar": {
             "outlinewidth": 0,
             "ticks": ""
            },
            "type": "choropleth"
           }
          ],
          "contour": [
           {
            "colorbar": {
             "outlinewidth": 0,
             "ticks": ""
            },
            "colorscale": [
             [
              0,
              "#0d0887"
             ],
             [
              0.1111111111111111,
              "#46039f"
             ],
             [
              0.2222222222222222,
              "#7201a8"
             ],
             [
              0.3333333333333333,
              "#9c179e"
             ],
             [
              0.4444444444444444,
              "#bd3786"
             ],
             [
              0.5555555555555556,
              "#d8576b"
             ],
             [
              0.6666666666666666,
              "#ed7953"
             ],
             [
              0.7777777777777778,
              "#fb9f3a"
             ],
             [
              0.8888888888888888,
              "#fdca26"
             ],
             [
              1,
              "#f0f921"
             ]
            ],
            "type": "contour"
           }
          ],
          "contourcarpet": [
           {
            "colorbar": {
             "outlinewidth": 0,
             "ticks": ""
            },
            "type": "contourcarpet"
           }
          ],
          "heatmap": [
           {
            "colorbar": {
             "outlinewidth": 0,
             "ticks": ""
            },
            "colorscale": [
             [
              0,
              "#0d0887"
             ],
             [
              0.1111111111111111,
              "#46039f"
             ],
             [
              0.2222222222222222,
              "#7201a8"
             ],
             [
              0.3333333333333333,
              "#9c179e"
             ],
             [
              0.4444444444444444,
              "#bd3786"
             ],
             [
              0.5555555555555556,
              "#d8576b"
             ],
             [
              0.6666666666666666,
              "#ed7953"
             ],
             [
              0.7777777777777778,
              "#fb9f3a"
             ],
             [
              0.8888888888888888,
              "#fdca26"
             ],
             [
              1,
              "#f0f921"
             ]
            ],
            "type": "heatmap"
           }
          ],
          "heatmapgl": [
           {
            "colorbar": {
             "outlinewidth": 0,
             "ticks": ""
            },
            "colorscale": [
             [
              0,
              "#0d0887"
             ],
             [
              0.1111111111111111,
              "#46039f"
             ],
             [
              0.2222222222222222,
              "#7201a8"
             ],
             [
              0.3333333333333333,
              "#9c179e"
             ],
             [
              0.4444444444444444,
              "#bd3786"
             ],
             [
              0.5555555555555556,
              "#d8576b"
             ],
             [
              0.6666666666666666,
              "#ed7953"
             ],
             [
              0.7777777777777778,
              "#fb9f3a"
             ],
             [
              0.8888888888888888,
              "#fdca26"
             ],
             [
              1,
              "#f0f921"
             ]
            ],
            "type": "heatmapgl"
           }
          ],
          "histogram": [
           {
            "marker": {
             "pattern": {
              "fillmode": "overlay",
              "size": 10,
              "solidity": 0.2
             }
            },
            "type": "histogram"
           }
          ],
          "histogram2d": [
           {
            "colorbar": {
             "outlinewidth": 0,
             "ticks": ""
            },
            "colorscale": [
             [
              0,
              "#0d0887"
             ],
             [
              0.1111111111111111,
              "#46039f"
             ],
             [
              0.2222222222222222,
              "#7201a8"
             ],
             [
              0.3333333333333333,
              "#9c179e"
             ],
             [
              0.4444444444444444,
              "#bd3786"
             ],
             [
              0.5555555555555556,
              "#d8576b"
             ],
             [
              0.6666666666666666,
              "#ed7953"
             ],
             [
              0.7777777777777778,
              "#fb9f3a"
             ],
             [
              0.8888888888888888,
              "#fdca26"
             ],
             [
              1,
              "#f0f921"
             ]
            ],
            "type": "histogram2d"
           }
          ],
          "histogram2dcontour": [
           {
            "colorbar": {
             "outlinewidth": 0,
             "ticks": ""
            },
            "colorscale": [
             [
              0,
              "#0d0887"
             ],
             [
              0.1111111111111111,
              "#46039f"
             ],
             [
              0.2222222222222222,
              "#7201a8"
             ],
             [
              0.3333333333333333,
              "#9c179e"
             ],
             [
              0.4444444444444444,
              "#bd3786"
             ],
             [
              0.5555555555555556,
              "#d8576b"
             ],
             [
              0.6666666666666666,
              "#ed7953"
             ],
             [
              0.7777777777777778,
              "#fb9f3a"
             ],
             [
              0.8888888888888888,
              "#fdca26"
             ],
             [
              1,
              "#f0f921"
             ]
            ],
            "type": "histogram2dcontour"
           }
          ],
          "mesh3d": [
           {
            "colorbar": {
             "outlinewidth": 0,
             "ticks": ""
            },
            "type": "mesh3d"
           }
          ],
          "parcoords": [
           {
            "line": {
             "colorbar": {
              "outlinewidth": 0,
              "ticks": ""
             }
            },
            "type": "parcoords"
           }
          ],
          "pie": [
           {
            "automargin": true,
            "type": "pie"
           }
          ],
          "scatter": [
           {
            "marker": {
             "colorbar": {
              "outlinewidth": 0,
              "ticks": ""
             }
            },
            "type": "scatter"
           }
          ],
          "scatter3d": [
           {
            "line": {
             "colorbar": {
              "outlinewidth": 0,
              "ticks": ""
             }
            },
            "marker": {
             "colorbar": {
              "outlinewidth": 0,
              "ticks": ""
             }
            },
            "type": "scatter3d"
           }
          ],
          "scattercarpet": [
           {
            "marker": {
             "colorbar": {
              "outlinewidth": 0,
              "ticks": ""
             }
            },
            "type": "scattercarpet"
           }
          ],
          "scattergeo": [
           {
            "marker": {
             "colorbar": {
              "outlinewidth": 0,
              "ticks": ""
             }
            },
            "type": "scattergeo"
           }
          ],
          "scattergl": [
           {
            "marker": {
             "colorbar": {
              "outlinewidth": 0,
              "ticks": ""
             }
            },
            "type": "scattergl"
           }
          ],
          "scattermapbox": [
           {
            "marker": {
             "colorbar": {
              "outlinewidth": 0,
              "ticks": ""
             }
            },
            "type": "scattermapbox"
           }
          ],
          "scatterpolar": [
           {
            "marker": {
             "colorbar": {
              "outlinewidth": 0,
              "ticks": ""
             }
            },
            "type": "scatterpolar"
           }
          ],
          "scatterpolargl": [
           {
            "marker": {
             "colorbar": {
              "outlinewidth": 0,
              "ticks": ""
             }
            },
            "type": "scatterpolargl"
           }
          ],
          "scatterternary": [
           {
            "marker": {
             "colorbar": {
              "outlinewidth": 0,
              "ticks": ""
             }
            },
            "type": "scatterternary"
           }
          ],
          "surface": [
           {
            "colorbar": {
             "outlinewidth": 0,
             "ticks": ""
            },
            "colorscale": [
             [
              0,
              "#0d0887"
             ],
             [
              0.1111111111111111,
              "#46039f"
             ],
             [
              0.2222222222222222,
              "#7201a8"
             ],
             [
              0.3333333333333333,
              "#9c179e"
             ],
             [
              0.4444444444444444,
              "#bd3786"
             ],
             [
              0.5555555555555556,
              "#d8576b"
             ],
             [
              0.6666666666666666,
              "#ed7953"
             ],
             [
              0.7777777777777778,
              "#fb9f3a"
             ],
             [
              0.8888888888888888,
              "#fdca26"
             ],
             [
              1,
              "#f0f921"
             ]
            ],
            "type": "surface"
           }
          ],
          "table": [
           {
            "cells": {
             "fill": {
              "color": "#EBF0F8"
             },
             "line": {
              "color": "white"
             }
            },
            "header": {
             "fill": {
              "color": "#C8D4E3"
             },
             "line": {
              "color": "white"
             }
            },
            "type": "table"
           }
          ]
         },
         "layout": {
          "annotationdefaults": {
           "arrowcolor": "#2a3f5f",
           "arrowhead": 0,
           "arrowwidth": 1
          },
          "autotypenumbers": "strict",
          "coloraxis": {
           "colorbar": {
            "outlinewidth": 0,
            "ticks": ""
           }
          },
          "colorscale": {
           "diverging": [
            [
             0,
             "#8e0152"
            ],
            [
             0.1,
             "#c51b7d"
            ],
            [
             0.2,
             "#de77ae"
            ],
            [
             0.3,
             "#f1b6da"
            ],
            [
             0.4,
             "#fde0ef"
            ],
            [
             0.5,
             "#f7f7f7"
            ],
            [
             0.6,
             "#e6f5d0"
            ],
            [
             0.7,
             "#b8e186"
            ],
            [
             0.8,
             "#7fbc41"
            ],
            [
             0.9,
             "#4d9221"
            ],
            [
             1,
             "#276419"
            ]
           ],
           "sequential": [
            [
             0,
             "#0d0887"
            ],
            [
             0.1111111111111111,
             "#46039f"
            ],
            [
             0.2222222222222222,
             "#7201a8"
            ],
            [
             0.3333333333333333,
             "#9c179e"
            ],
            [
             0.4444444444444444,
             "#bd3786"
            ],
            [
             0.5555555555555556,
             "#d8576b"
            ],
            [
             0.6666666666666666,
             "#ed7953"
            ],
            [
             0.7777777777777778,
             "#fb9f3a"
            ],
            [
             0.8888888888888888,
             "#fdca26"
            ],
            [
             1,
             "#f0f921"
            ]
           ],
           "sequentialminus": [
            [
             0,
             "#0d0887"
            ],
            [
             0.1111111111111111,
             "#46039f"
            ],
            [
             0.2222222222222222,
             "#7201a8"
            ],
            [
             0.3333333333333333,
             "#9c179e"
            ],
            [
             0.4444444444444444,
             "#bd3786"
            ],
            [
             0.5555555555555556,
             "#d8576b"
            ],
            [
             0.6666666666666666,
             "#ed7953"
            ],
            [
             0.7777777777777778,
             "#fb9f3a"
            ],
            [
             0.8888888888888888,
             "#fdca26"
            ],
            [
             1,
             "#f0f921"
            ]
           ]
          },
          "colorway": [
           "#636efa",
           "#EF553B",
           "#00cc96",
           "#ab63fa",
           "#FFA15A",
           "#19d3f3",
           "#FF6692",
           "#B6E880",
           "#FF97FF",
           "#FECB52"
          ],
          "font": {
           "color": "#2a3f5f"
          },
          "geo": {
           "bgcolor": "white",
           "lakecolor": "white",
           "landcolor": "#E5ECF6",
           "showlakes": true,
           "showland": true,
           "subunitcolor": "white"
          },
          "hoverlabel": {
           "align": "left"
          },
          "hovermode": "closest",
          "mapbox": {
           "style": "light"
          },
          "paper_bgcolor": "white",
          "plot_bgcolor": "#E5ECF6",
          "polar": {
           "angularaxis": {
            "gridcolor": "white",
            "linecolor": "white",
            "ticks": ""
           },
           "bgcolor": "#E5ECF6",
           "radialaxis": {
            "gridcolor": "white",
            "linecolor": "white",
            "ticks": ""
           }
          },
          "scene": {
           "xaxis": {
            "backgroundcolor": "#E5ECF6",
            "gridcolor": "white",
            "gridwidth": 2,
            "linecolor": "white",
            "showbackground": true,
            "ticks": "",
            "zerolinecolor": "white"
           },
           "yaxis": {
            "backgroundcolor": "#E5ECF6",
            "gridcolor": "white",
            "gridwidth": 2,
            "linecolor": "white",
            "showbackground": true,
            "ticks": "",
            "zerolinecolor": "white"
           },
           "zaxis": {
            "backgroundcolor": "#E5ECF6",
            "gridcolor": "white",
            "gridwidth": 2,
            "linecolor": "white",
            "showbackground": true,
            "ticks": "",
            "zerolinecolor": "white"
           }
          },
          "shapedefaults": {
           "line": {
            "color": "#2a3f5f"
           }
          },
          "ternary": {
           "aaxis": {
            "gridcolor": "white",
            "linecolor": "white",
            "ticks": ""
           },
           "baxis": {
            "gridcolor": "white",
            "linecolor": "white",
            "ticks": ""
           },
           "bgcolor": "#E5ECF6",
           "caxis": {
            "gridcolor": "white",
            "linecolor": "white",
            "ticks": ""
           }
          },
          "title": {
           "x": 0.05
          },
          "xaxis": {
           "automargin": true,
           "gridcolor": "white",
           "linecolor": "white",
           "ticks": "",
           "title": {
            "standoff": 15
           },
           "zerolinecolor": "white",
           "zerolinewidth": 2
          },
          "yaxis": {
           "automargin": true,
           "gridcolor": "white",
           "linecolor": "white",
           "ticks": "",
           "title": {
            "standoff": 15
           },
           "zerolinecolor": "white",
           "zerolinewidth": 2
          }
         }
        },
        "title": {
         "text": "Histogram stopnia węzłów",
         "x": 0.5,
         "xanchor": "center",
         "y": 0.9,
         "yanchor": "top"
        },
        "width": 800,
        "xaxis": {
         "anchor": "y",
         "autorange": true,
         "domain": [
          0,
          1
         ],
         "range": [
          0.5,
          12.5
         ],
         "title": {
          "text": "Stopień węzła"
         },
         "type": "linear"
        },
        "yaxis": {
         "anchor": "x",
         "autorange": true,
         "domain": [
          0,
          1
         ],
         "range": [
          0,
          32.63157894736842
         ],
         "title": {
          "text": "count"
         }
        }
       }
      },
      "image/png": "[encoded data removed]"
     },
     "metadata": {},
     "output_type": "display_data"
    }
   ],
   "source": [
    "import plotly.express as px\n",
    "\n",
    "fig = px.histogram(\n",
    "    [x[1] for x in graph_politicians.degree()], title=\"Histogram stopnia węzłów\", width=800, height=600\n",
    ")\n",
    "fig.update_layout(\n",
    "    xaxis_title=\"Stopień węzła\",\n",
    "    title={\n",
    "        \"text\": \"Histogram stopnia węzłów\",\n",
    "        \"y\": 0.9,\n",
    "        \"x\": 0.5,\n",
    "        \"xanchor\": \"center\",\n",
    "        \"yanchor\": \"top\",\n",
    "    },\n",
    "    showlegend=False\n",
    ")\n",
    "fig.show()"
   ]
  },
  {
   "cell_type": "markdown",
   "metadata": {},
   "source": [
    "## Wizualizacja interakcji między największymi haterami"
   ]
  },
  {
   "cell_type": "code",
   "execution_count": 53,
   "metadata": {},
   "outputs": [],
   "source": [
    "posts_per_user = df_tweets.groupby([\"user_id\"]).size()\n",
    "posts_per_user = posts_per_user.to_frame().reset_index().rename(columns={0: \"all\"})\n",
    "\n",
    "df_tweets_hate = df_tweets[df_tweets[\"offensive\"] == 1]\n",
    "hate_per_user = df_tweets_hate.groupby([\"user_id\"]).size()\n",
    "hate_per_user = hate_per_user.to_frame().reset_index().rename(columns={0: \"hate\"})\n",
    "\n",
    "users_stats = posts_per_user.merge(hate_per_user, how=\"left\", on=\"user_id\")\n",
    "users_stats.fillna(0, inplace=True)\n",
    "users_stats[\"hate_coefficient\"] = users_stats[\"hate\"] / users_stats[\"all\"]\n",
    "\n",
    "top_100 = users_stats.sort_values(by=\"hate\", ascending=False).iloc[:300].reset_index(drop=True)"
   ]
  },
  {
   "cell_type": "code",
   "execution_count": 54,
   "metadata": {},
   "outputs": [
    {
     "data": {
      "text/html": [
       "<div>\n",
       "<style scoped>\n",
       "    .dataframe tbody tr th:only-of-type {\n",
       "        vertical-align: middle;\n",
       "    }\n",
       "\n",
       "    .dataframe tbody tr th {\n",
       "        vertical-align: top;\n",
       "    }\n",
       "\n",
       "    .dataframe thead th {\n",
       "        text-align: right;\n",
       "    }\n",
       "</style>\n",
       "<table border=\"1\" class=\"dataframe\">\n",
       "  <thead>\n",
       "    <tr style=\"text-align: right;\">\n",
       "      <th></th>\n",
       "      <th>user_id</th>\n",
       "      <th>all</th>\n",
       "      <th>hate</th>\n",
       "      <th>hate_coefficient</th>\n",
       "      <th>name</th>\n",
       "      <th>username</th>\n",
       "      <th>bio</th>\n",
       "      <th>location</th>\n",
       "      <th>join_date</th>\n",
       "      <th>join_time</th>\n",
       "      <th>tweets</th>\n",
       "      <th>following</th>\n",
       "      <th>followers</th>\n",
       "      <th>likes</th>\n",
       "      <th>affiliation</th>\n",
       "    </tr>\n",
       "  </thead>\n",
       "  <tbody>\n",
       "    <tr>\n",
       "      <th>0</th>\n",
       "      <td>838191930399997953</td>\n",
       "      <td>266</td>\n",
       "      <td>177.0</td>\n",
       "      <td>0.665414</td>\n",
       "      <td>P MirosławK 🇵🇱🇪🇺 #SilniRazem</td>\n",
       "      <td>MK6112</td>\n",
       "      <td>Patriota ceniący wolnośc i demokrację, liberał...</td>\n",
       "      <td>Zielona Góra  PO  PL  UE</td>\n",
       "      <td>2017-03-05</td>\n",
       "      <td>00:58:23 UTC</td>\n",
       "      <td>192299.0</td>\n",
       "      <td>1528.0</td>\n",
       "      <td>1581.0</td>\n",
       "      <td>175991.0</td>\n",
       "      <td>none</td>\n",
       "    </tr>\n",
       "    <tr>\n",
       "      <th>1</th>\n",
       "      <td>1383376953219063811</td>\n",
       "      <td>300</td>\n",
       "      <td>165.0</td>\n",
       "      <td>0.550000</td>\n",
       "      <td>AnNi</td>\n",
       "      <td>nowyanni211121</td>\n",
       "      <td>Zwykły użytkownik TT, konto nr 2.</td>\n",
       "      <td></td>\n",
       "      <td>2021-04-17</td>\n",
       "      <td>11:09:15 UTC</td>\n",
       "      <td>46809.0</td>\n",
       "      <td>1011.0</td>\n",
       "      <td>532.0</td>\n",
       "      <td>32416.0</td>\n",
       "      <td>none</td>\n",
       "    </tr>\n",
       "    <tr>\n",
       "      <th>2</th>\n",
       "      <td>1026867931</td>\n",
       "      <td>197</td>\n",
       "      <td>159.0</td>\n",
       "      <td>0.807107</td>\n",
       "      <td>Eliza Alicja</td>\n",
       "      <td>SeliwiakE</td>\n",
       "      <td>Chrońmy wiarę KK ✝️ Popieram PIS  🇵🇱 KONSTYTUC...</td>\n",
       "      <td>Wrocław, Polska</td>\n",
       "      <td>2012-12-21</td>\n",
       "      <td>17:59:12 UTC</td>\n",
       "      <td>64890.0</td>\n",
       "      <td>4999.0</td>\n",
       "      <td>4237.0</td>\n",
       "      <td>296816.0</td>\n",
       "      <td>none</td>\n",
       "    </tr>\n",
       "    <tr>\n",
       "      <th>3</th>\n",
       "      <td>1427677539787550727</td>\n",
       "      <td>238</td>\n",
       "      <td>132.0</td>\n",
       "      <td>0.554622</td>\n",
       "      <td>Space Intruder 🇵🇱 #MuremZaPolskimMundurem</td>\n",
       "      <td>SpaceIntruder2</td>\n",
       "      <td>Studio Produkcji Muzycznej. Space Music World ...</td>\n",
       "      <td></td>\n",
       "      <td>2021-08-17</td>\n",
       "      <td>17:06:35 UTC</td>\n",
       "      <td>12699.0</td>\n",
       "      <td>36.0</td>\n",
       "      <td>94.0</td>\n",
       "      <td>12414.0</td>\n",
       "      <td>none</td>\n",
       "    </tr>\n",
       "    <tr>\n",
       "      <th>4</th>\n",
       "      <td>620191832</td>\n",
       "      <td>296</td>\n",
       "      <td>121.0</td>\n",
       "      <td>0.408784</td>\n",
       "      <td>M.J. Stolzman 🇵🇱🇺🇸</td>\n",
       "      <td>MattStolzman</td>\n",
       "      <td>🐸\\n____\\nFilm photography enthusiast, analog s...</td>\n",
       "      <td>Ziemia Obiecana</td>\n",
       "      <td>2012-06-27</td>\n",
       "      <td>17:39:11 UTC</td>\n",
       "      <td>9082.0</td>\n",
       "      <td>273.0</td>\n",
       "      <td>333.0</td>\n",
       "      <td>34967.0</td>\n",
       "      <td>none</td>\n",
       "    </tr>\n",
       "    <tr>\n",
       "      <th>...</th>\n",
       "      <td>...</td>\n",
       "      <td>...</td>\n",
       "      <td>...</td>\n",
       "      <td>...</td>\n",
       "      <td>...</td>\n",
       "      <td>...</td>\n",
       "      <td>...</td>\n",
       "      <td>...</td>\n",
       "      <td>...</td>\n",
       "      <td>...</td>\n",
       "      <td>...</td>\n",
       "      <td>...</td>\n",
       "      <td>...</td>\n",
       "      <td>...</td>\n",
       "      <td>...</td>\n",
       "    </tr>\n",
       "    <tr>\n",
       "      <th>295</th>\n",
       "      <td>1275346001851801600</td>\n",
       "      <td>69</td>\n",
       "      <td>35.0</td>\n",
       "      <td>0.507246</td>\n",
       "      <td>Dojcze_kabana</td>\n",
       "      <td>Clin33268197</td>\n",
       "      <td>#czyścić aka łyskaczyk z guinnessikiem</td>\n",
       "      <td></td>\n",
       "      <td>2020-06-23</td>\n",
       "      <td>08:32:50 UTC</td>\n",
       "      <td>12477.0</td>\n",
       "      <td>129.0</td>\n",
       "      <td>47.0</td>\n",
       "      <td>3966.0</td>\n",
       "      <td>none</td>\n",
       "    </tr>\n",
       "    <tr>\n",
       "      <th>296</th>\n",
       "      <td>1430890578762342408</td>\n",
       "      <td>69</td>\n",
       "      <td>35.0</td>\n",
       "      <td>0.507246</td>\n",
       "      <td>Oxygen bis</td>\n",
       "      <td>OxygenBis</td>\n",
       "      <td>Warszawska Gazeta...to jest to</td>\n",
       "      <td></td>\n",
       "      <td>2021-08-26</td>\n",
       "      <td>13:52:15 UTC</td>\n",
       "      <td>3434.0</td>\n",
       "      <td>21.0</td>\n",
       "      <td>20.0</td>\n",
       "      <td>2560.0</td>\n",
       "      <td>none</td>\n",
       "    </tr>\n",
       "    <tr>\n",
       "      <th>297</th>\n",
       "      <td>895365999855362048</td>\n",
       "      <td>73</td>\n",
       "      <td>35.0</td>\n",
       "      <td>0.479452</td>\n",
       "      <td>Femek Maniewicz</td>\n",
       "      <td>Przemek95647013</td>\n",
       "      <td>precz z komuną</td>\n",
       "      <td>Mazowieckie, Polska</td>\n",
       "      <td>2017-08-09</td>\n",
       "      <td>19:27:44 UTC</td>\n",
       "      <td>1021.0</td>\n",
       "      <td>177.0</td>\n",
       "      <td>14.0</td>\n",
       "      <td>1247.0</td>\n",
       "      <td>none</td>\n",
       "    </tr>\n",
       "    <tr>\n",
       "      <th>298</th>\n",
       "      <td>144544892</td>\n",
       "      <td>52</td>\n",
       "      <td>35.0</td>\n",
       "      <td>0.673077</td>\n",
       "      <td>Andrew Zeig</td>\n",
       "      <td>commodore997</td>\n",
       "      <td>Show me what u can? LOL.</td>\n",
       "      <td>NYC/Dyker Hts.</td>\n",
       "      <td>2010-05-16</td>\n",
       "      <td>16:16:37 UTC</td>\n",
       "      <td>26545.0</td>\n",
       "      <td>281.0</td>\n",
       "      <td>276.0</td>\n",
       "      <td>71367.0</td>\n",
       "      <td>none</td>\n",
       "    </tr>\n",
       "    <tr>\n",
       "      <th>299</th>\n",
       "      <td>1218622172710744069</td>\n",
       "      <td>62</td>\n",
       "      <td>35.0</td>\n",
       "      <td>0.564516</td>\n",
       "      <td>Ludwikson</td>\n",
       "      <td>Ludwikson1</td>\n",
       "      <td></td>\n",
       "      <td></td>\n",
       "      <td>2020-01-18</td>\n",
       "      <td>19:52:49 UTC</td>\n",
       "      <td>2076.0</td>\n",
       "      <td>0.0</td>\n",
       "      <td>2.0</td>\n",
       "      <td>279.0</td>\n",
       "      <td>none</td>\n",
       "    </tr>\n",
       "  </tbody>\n",
       "</table>\n",
       "<p>300 rows × 15 columns</p>\n",
       "</div>"
      ],
      "text/plain": [
       "                 user_id  all   hate  hate_coefficient  \\\n",
       "0     838191930399997953  266  177.0          0.665414   \n",
       "1    1383376953219063811  300  165.0          0.550000   \n",
       "2             1026867931  197  159.0          0.807107   \n",
       "3    1427677539787550727  238  132.0          0.554622   \n",
       "4              620191832  296  121.0          0.408784   \n",
       "..                   ...  ...    ...               ...   \n",
       "295  1275346001851801600   69   35.0          0.507246   \n",
       "296  1430890578762342408   69   35.0          0.507246   \n",
       "297   895365999855362048   73   35.0          0.479452   \n",
       "298            144544892   52   35.0          0.673077   \n",
       "299  1218622172710744069   62   35.0          0.564516   \n",
       "\n",
       "                                          name         username  \\\n",
       "0                 P MirosławK 🇵🇱🇪🇺 #SilniRazem           MK6112   \n",
       "1                                         AnNi   nowyanni211121   \n",
       "2                                 Eliza Alicja        SeliwiakE   \n",
       "3    Space Intruder 🇵🇱 #MuremZaPolskimMundurem   SpaceIntruder2   \n",
       "4                           M.J. Stolzman 🇵🇱🇺🇸     MattStolzman   \n",
       "..                                         ...              ...   \n",
       "295                              Dojcze_kabana     Clin33268197   \n",
       "296                                 Oxygen bis        OxygenBis   \n",
       "297                            Femek Maniewicz  Przemek95647013   \n",
       "298                                Andrew Zeig     commodore997   \n",
       "299                                  Ludwikson       Ludwikson1   \n",
       "\n",
       "                                                   bio  \\\n",
       "0    Patriota ceniący wolnośc i demokrację, liberał...   \n",
       "1                    Zwykły użytkownik TT, konto nr 2.   \n",
       "2    Chrońmy wiarę KK ✝️ Popieram PIS  🇵🇱 KONSTYTUC...   \n",
       "3    Studio Produkcji Muzycznej. Space Music World ...   \n",
       "4    🐸\\n____\\nFilm photography enthusiast, analog s...   \n",
       "..                                                 ...   \n",
       "295             #czyścić aka łyskaczyk z guinnessikiem   \n",
       "296                     Warszawska Gazeta...to jest to   \n",
       "297                                     precz z komuną   \n",
       "298                           Show me what u can? LOL.   \n",
       "299                                                      \n",
       "\n",
       "                     location   join_date     join_time    tweets  following  \\\n",
       "0    Zielona Góra  PO  PL  UE  2017-03-05  00:58:23 UTC  192299.0     1528.0   \n",
       "1                              2021-04-17  11:09:15 UTC   46809.0     1011.0   \n",
       "2             Wrocław, Polska  2012-12-21  17:59:12 UTC   64890.0     4999.0   \n",
       "3                              2021-08-17  17:06:35 UTC   12699.0       36.0   \n",
       "4             Ziemia Obiecana  2012-06-27  17:39:11 UTC    9082.0      273.0   \n",
       "..                        ...         ...           ...       ...        ...   \n",
       "295                            2020-06-23  08:32:50 UTC   12477.0      129.0   \n",
       "296                            2021-08-26  13:52:15 UTC    3434.0       21.0   \n",
       "297       Mazowieckie, Polska  2017-08-09  19:27:44 UTC    1021.0      177.0   \n",
       "298            NYC/Dyker Hts.  2010-05-16  16:16:37 UTC   26545.0      281.0   \n",
       "299                            2020-01-18  19:52:49 UTC    2076.0        0.0   \n",
       "\n",
       "     followers     likes affiliation  \n",
       "0       1581.0  175991.0        none  \n",
       "1        532.0   32416.0        none  \n",
       "2       4237.0  296816.0        none  \n",
       "3         94.0   12414.0        none  \n",
       "4        333.0   34967.0        none  \n",
       "..         ...       ...         ...  \n",
       "295       47.0    3966.0        none  \n",
       "296       20.0    2560.0        none  \n",
       "297       14.0    1247.0        none  \n",
       "298      276.0   71367.0        none  \n",
       "299        2.0     279.0        none  \n",
       "\n",
       "[300 rows x 15 columns]"
      ]
     },
     "execution_count": 54,
     "metadata": {},
     "output_type": "execute_result"
    }
   ],
   "source": [
    "top_100 = top_100.join(df_users.set_index(\"id\"), on=\"user_id\")\n",
    "top_100"
   ]
  },
  {
   "cell_type": "code",
   "execution_count": 55,
   "metadata": {},
   "outputs": [],
   "source": [
    "df_tweets_haters = df_tweets[df_tweets[\"user_id\"].isin(top_100[\"user_id\"])]"
   ]
  },
  {
   "cell_type": "code",
   "execution_count": 56,
   "metadata": {},
   "outputs": [
    {
     "name": "stderr",
     "output_type": "stream",
     "text": [
      "100%|██████████| 31323/31323 [00:18<00:00, 1690.89it/s]\n"
     ]
    }
   ],
   "source": [
    "graph_haters = nx.Graph()\n",
    "\n",
    "for _, row in tqdm(df_tweets_haters.iterrows(), total=len(df_tweets_haters)):\n",
    "    username = top_100[top_100[\"user_id\"] == row[\"user_id\"]].iloc[0]\n",
    "    username = username[\"username\"]\n",
    "    for user in row[\"mentions\"]:\n",
    "        if user == username:\n",
    "            continue\n",
    "        if user in top_100[\"username\"]:\n",
    "            graph_haters.add_edge(username, user)\n",
    "    if row[\"id\"] != row[\"conversation_id\"]: # comment\n",
    "        recipient_id = df_tweets_haters.loc[df_tweets_haters[\"id\"] == row[\"conversation_id\"]][\"user_id\"]\n",
    "        if len(recipient_id):\n",
    "            recipient_id = recipient_id.iloc[0]\n",
    "            recipient = top_100[top_100[\"user_id\"] == recipient_id].iloc[0]\n",
    "            if recipient[\"username\"] == username:\n",
    "                continue\n",
    "            graph_haters.add_edge(username, recipient[\"username\"])"
   ]
  },
  {
   "cell_type": "code",
   "execution_count": 57,
   "metadata": {},
   "outputs": [
    {
     "name": "stdout",
     "output_type": "stream",
     "text": [
      "Liczba wierzchołków: 156\n"
     ]
    }
   ],
   "source": [
    "print(f\"Liczba wierzchołków: {graph_haters.number_of_nodes()}\")"
   ]
  },
  {
   "cell_type": "code",
   "execution_count": 58,
   "metadata": {},
   "outputs": [
    {
     "data": {
      "application/vnd.plotly.v1+json": {
       "config": {
        "plotlyServerURL": "https://plot.ly"
       },
       "data": [
        {
         "alignmentgroup": "True",
         "bingroup": "x",
         "hovertemplate": "variable=0<br>value=%{x}<br>count=%{y}<extra></extra>",
         "legendgroup": "0",
         "marker": {
          "color": "#636efa",
          "pattern": {
           "shape": ""
          }
         },
         "name": "0",
         "offsetgroup": "0",
         "orientation": "v",
         "showlegend": true,
         "type": "histogram",
         "x": [
          1,
          22,
          1,
          2,
          3,
          1,
          2,
          1,
          16,
          1,
          1,
          3,
          2,
          1,
          4,
          1,
          1,
          2,
          1,
          3,
          1,
          4,
          1,
          1,
          1,
          5,
          2,
          1,
          2,
          2,
          3,
          3,
          2,
          2,
          5,
          2,
          1,
          7,
          1,
          2,
          2,
          2,
          2,
          8,
          1,
          3,
          1,
          2,
          1,
          1,
          2,
          2,
          1,
          2,
          2,
          1,
          2,
          1,
          1,
          1,
          2,
          8,
          1,
          70,
          1,
          1,
          1,
          1,
          1,
          1,
          1,
          1,
          1,
          2,
          1,
          1,
          1,
          2,
          1,
          1,
          1,
          1,
          1,
          1,
          1,
          3,
          1,
          1,
          1,
          1,
          1,
          1,
          3,
          1,
          1,
          1,
          1,
          1,
          1,
          1,
          2,
          1,
          1,
          1,
          1,
          2,
          3,
          1,
          1,
          1,
          1,
          1,
          1,
          2,
          1,
          4,
          1,
          1,
          1,
          37,
          2,
          1,
          1,
          1,
          1,
          2,
          1,
          2,
          1,
          1,
          2,
          1,
          1,
          1,
          1,
          1,
          1,
          1,
          1,
          1,
          3,
          1,
          1,
          1,
          1,
          1,
          1,
          1,
          1,
          1,
          1,
          1,
          1,
          1,
          1,
          1
         ],
         "xaxis": "x",
         "yaxis": "y"
        }
       ],
       "layout": {
        "barmode": "relative",
        "height": 600,
        "legend": {
         "title": {
          "text": "variable"
         },
         "tracegroupgap": 0
        },
        "showlegend": false,
        "template": {
         "data": {
          "bar": [
           {
            "error_x": {
             "color": "#2a3f5f"
            },
            "error_y": {
             "color": "#2a3f5f"
            },
            "marker": {
             "line": {
              "color": "#E5ECF6",
              "width": 0.5
             },
             "pattern": {
              "fillmode": "overlay",
              "size": 10,
              "solidity": 0.2
             }
            },
            "type": "bar"
           }
          ],
          "barpolar": [
           {
            "marker": {
             "line": {
              "color": "#E5ECF6",
              "width": 0.5
             },
             "pattern": {
              "fillmode": "overlay",
              "size": 10,
              "solidity": 0.2
             }
            },
            "type": "barpolar"
           }
          ],
          "carpet": [
           {
            "aaxis": {
             "endlinecolor": "#2a3f5f",
             "gridcolor": "white",
             "linecolor": "white",
             "minorgridcolor": "white",
             "startlinecolor": "#2a3f5f"
            },
            "baxis": {
             "endlinecolor": "#2a3f5f",
             "gridcolor": "white",
             "linecolor": "white",
             "minorgridcolor": "white",
             "startlinecolor": "#2a3f5f"
            },
            "type": "carpet"
           }
          ],
          "choropleth": [
           {
            "colorbar": {
             "outlinewidth": 0,
             "ticks": ""
            },
            "type": "choropleth"
           }
          ],
          "contour": [
           {
            "colorbar": {
             "outlinewidth": 0,
             "ticks": ""
            },
            "colorscale": [
             [
              0,
              "#0d0887"
             ],
             [
              0.1111111111111111,
              "#46039f"
             ],
             [
              0.2222222222222222,
              "#7201a8"
             ],
             [
              0.3333333333333333,
              "#9c179e"
             ],
             [
              0.4444444444444444,
              "#bd3786"
             ],
             [
              0.5555555555555556,
              "#d8576b"
             ],
             [
              0.6666666666666666,
              "#ed7953"
             ],
             [
              0.7777777777777778,
              "#fb9f3a"
             ],
             [
              0.8888888888888888,
              "#fdca26"
             ],
             [
              1,
              "#f0f921"
             ]
            ],
            "type": "contour"
           }
          ],
          "contourcarpet": [
           {
            "colorbar": {
             "outlinewidth": 0,
             "ticks": ""
            },
            "type": "contourcarpet"
           }
          ],
          "heatmap": [
           {
            "colorbar": {
             "outlinewidth": 0,
             "ticks": ""
            },
            "colorscale": [
             [
              0,
              "#0d0887"
             ],
             [
              0.1111111111111111,
              "#46039f"
             ],
             [
              0.2222222222222222,
              "#7201a8"
             ],
             [
              0.3333333333333333,
              "#9c179e"
             ],
             [
              0.4444444444444444,
              "#bd3786"
             ],
             [
              0.5555555555555556,
              "#d8576b"
             ],
             [
              0.6666666666666666,
              "#ed7953"
             ],
             [
              0.7777777777777778,
              "#fb9f3a"
             ],
             [
              0.8888888888888888,
              "#fdca26"
             ],
             [
              1,
              "#f0f921"
             ]
            ],
            "type": "heatmap"
           }
          ],
          "heatmapgl": [
           {
            "colorbar": {
             "outlinewidth": 0,
             "ticks": ""
            },
            "colorscale": [
             [
              0,
              "#0d0887"
             ],
             [
              0.1111111111111111,
              "#46039f"
             ],
             [
              0.2222222222222222,
              "#7201a8"
             ],
             [
              0.3333333333333333,
              "#9c179e"
             ],
             [
              0.4444444444444444,
              "#bd3786"
             ],
             [
              0.5555555555555556,
              "#d8576b"
             ],
             [
              0.6666666666666666,
              "#ed7953"
             ],
             [
              0.7777777777777778,
              "#fb9f3a"
             ],
             [
              0.8888888888888888,
              "#fdca26"
             ],
             [
              1,
              "#f0f921"
             ]
            ],
            "type": "heatmapgl"
           }
          ],
          "histogram": [
           {
            "marker": {
             "pattern": {
              "fillmode": "overlay",
              "size": 10,
              "solidity": 0.2
             }
            },
            "type": "histogram"
           }
          ],
          "histogram2d": [
           {
            "colorbar": {
             "outlinewidth": 0,
             "ticks": ""
            },
            "colorscale": [
             [
              0,
              "#0d0887"
             ],
             [
              0.1111111111111111,
              "#46039f"
             ],
             [
              0.2222222222222222,
              "#7201a8"
             ],
             [
              0.3333333333333333,
              "#9c179e"
             ],
             [
              0.4444444444444444,
              "#bd3786"
             ],
             [
              0.5555555555555556,
              "#d8576b"
             ],
             [
              0.6666666666666666,
              "#ed7953"
             ],
             [
              0.7777777777777778,
              "#fb9f3a"
             ],
             [
              0.8888888888888888,
              "#fdca26"
             ],
             [
              1,
              "#f0f921"
             ]
            ],
            "type": "histogram2d"
           }
          ],
          "histogram2dcontour": [
           {
            "colorbar": {
             "outlinewidth": 0,
             "ticks": ""
            },
            "colorscale": [
             [
              0,
              "#0d0887"
             ],
             [
              0.1111111111111111,
              "#46039f"
             ],
             [
              0.2222222222222222,
              "#7201a8"
             ],
             [
              0.3333333333333333,
              "#9c179e"
             ],
             [
              0.4444444444444444,
              "#bd3786"
             ],
             [
              0.5555555555555556,
              "#d8576b"
             ],
             [
              0.6666666666666666,
              "#ed7953"
             ],
             [
              0.7777777777777778,
              "#fb9f3a"
             ],
             [
              0.8888888888888888,
              "#fdca26"
             ],
             [
              1,
              "#f0f921"
             ]
            ],
            "type": "histogram2dcontour"
           }
          ],
          "mesh3d": [
           {
            "colorbar": {
             "outlinewidth": 0,
             "ticks": ""
            },
            "type": "mesh3d"
           }
          ],
          "parcoords": [
           {
            "line": {
             "colorbar": {
              "outlinewidth": 0,
              "ticks": ""
             }
            },
            "type": "parcoords"
           }
          ],
          "pie": [
           {
            "automargin": true,
            "type": "pie"
           }
          ],
          "scatter": [
           {
            "marker": {
             "colorbar": {
              "outlinewidth": 0,
              "ticks": ""
             }
            },
            "type": "scatter"
           }
          ],
          "scatter3d": [
           {
            "line": {
             "colorbar": {
              "outlinewidth": 0,
              "ticks": ""
             }
            },
            "marker": {
             "colorbar": {
              "outlinewidth": 0,
              "ticks": ""
             }
            },
            "type": "scatter3d"
           }
          ],
          "scattercarpet": [
           {
            "marker": {
             "colorbar": {
              "outlinewidth": 0,
              "ticks": ""
             }
            },
            "type": "scattercarpet"
           }
          ],
          "scattergeo": [
           {
            "marker": {
             "colorbar": {
              "outlinewidth": 0,
              "ticks": ""
             }
            },
            "type": "scattergeo"
           }
          ],
          "scattergl": [
           {
            "marker": {
             "colorbar": {
              "outlinewidth": 0,
              "ticks": ""
             }
            },
            "type": "scattergl"
           }
          ],
          "scattermapbox": [
           {
            "marker": {
             "colorbar": {
              "outlinewidth": 0,
              "ticks": ""
             }
            },
            "type": "scattermapbox"
           }
          ],
          "scatterpolar": [
           {
            "marker": {
             "colorbar": {
              "outlinewidth": 0,
              "ticks": ""
             }
            },
            "type": "scatterpolar"
           }
          ],
          "scatterpolargl": [
           {
            "marker": {
             "colorbar": {
              "outlinewidth": 0,
              "ticks": ""
             }
            },
            "type": "scatterpolargl"
           }
          ],
          "scatterternary": [
           {
            "marker": {
             "colorbar": {
              "outlinewidth": 0,
              "ticks": ""
             }
            },
            "type": "scatterternary"
           }
          ],
          "surface": [
           {
            "colorbar": {
             "outlinewidth": 0,
             "ticks": ""
            },
            "colorscale": [
             [
              0,
              "#0d0887"
             ],
             [
              0.1111111111111111,
              "#46039f"
             ],
             [
              0.2222222222222222,
              "#7201a8"
             ],
             [
              0.3333333333333333,
              "#9c179e"
             ],
             [
              0.4444444444444444,
              "#bd3786"
             ],
             [
              0.5555555555555556,
              "#d8576b"
             ],
             [
              0.6666666666666666,
              "#ed7953"
             ],
             [
              0.7777777777777778,
              "#fb9f3a"
             ],
             [
              0.8888888888888888,
              "#fdca26"
             ],
             [
              1,
              "#f0f921"
             ]
            ],
            "type": "surface"
           }
          ],
          "table": [
           {
            "cells": {
             "fill": {
              "color": "#EBF0F8"
             },
             "line": {
              "color": "white"
             }
            },
            "header": {
             "fill": {
              "color": "#C8D4E3"
             },
             "line": {
              "color": "white"
             }
            },
            "type": "table"
           }
          ]
         },
         "layout": {
          "annotationdefaults": {
           "arrowcolor": "#2a3f5f",
           "arrowhead": 0,
           "arrowwidth": 1
          },
          "autotypenumbers": "strict",
          "coloraxis": {
           "colorbar": {
            "outlinewidth": 0,
            "ticks": ""
           }
          },
          "colorscale": {
           "diverging": [
            [
             0,
             "#8e0152"
            ],
            [
             0.1,
             "#c51b7d"
            ],
            [
             0.2,
             "#de77ae"
            ],
            [
             0.3,
             "#f1b6da"
            ],
            [
             0.4,
             "#fde0ef"
            ],
            [
             0.5,
             "#f7f7f7"
            ],
            [
             0.6,
             "#e6f5d0"
            ],
            [
             0.7,
             "#b8e186"
            ],
            [
             0.8,
             "#7fbc41"
            ],
            [
             0.9,
             "#4d9221"
            ],
            [
             1,
             "#276419"
            ]
           ],
           "sequential": [
            [
             0,
             "#0d0887"
            ],
            [
             0.1111111111111111,
             "#46039f"
            ],
            [
             0.2222222222222222,
             "#7201a8"
            ],
            [
             0.3333333333333333,
             "#9c179e"
            ],
            [
             0.4444444444444444,
             "#bd3786"
            ],
            [
             0.5555555555555556,
             "#d8576b"
            ],
            [
             0.6666666666666666,
             "#ed7953"
            ],
            [
             0.7777777777777778,
             "#fb9f3a"
            ],
            [
             0.8888888888888888,
             "#fdca26"
            ],
            [
             1,
             "#f0f921"
            ]
           ],
           "sequentialminus": [
            [
             0,
             "#0d0887"
            ],
            [
             0.1111111111111111,
             "#46039f"
            ],
            [
             0.2222222222222222,
             "#7201a8"
            ],
            [
             0.3333333333333333,
             "#9c179e"
            ],
            [
             0.4444444444444444,
             "#bd3786"
            ],
            [
             0.5555555555555556,
             "#d8576b"
            ],
            [
             0.6666666666666666,
             "#ed7953"
            ],
            [
             0.7777777777777778,
             "#fb9f3a"
            ],
            [
             0.8888888888888888,
             "#fdca26"
            ],
            [
             1,
             "#f0f921"
            ]
           ]
          },
          "colorway": [
           "#636efa",
           "#EF553B",
           "#00cc96",
           "#ab63fa",
           "#FFA15A",
           "#19d3f3",
           "#FF6692",
           "#B6E880",
           "#FF97FF",
           "#FECB52"
          ],
          "font": {
           "color": "#2a3f5f"
          },
          "geo": {
           "bgcolor": "white",
           "lakecolor": "white",
           "landcolor": "#E5ECF6",
           "showlakes": true,
           "showland": true,
           "subunitcolor": "white"
          },
          "hoverlabel": {
           "align": "left"
          },
          "hovermode": "closest",
          "mapbox": {
           "style": "light"
          },
          "paper_bgcolor": "white",
          "plot_bgcolor": "#E5ECF6",
          "polar": {
           "angularaxis": {
            "gridcolor": "white",
            "linecolor": "white",
            "ticks": ""
           },
           "bgcolor": "#E5ECF6",
           "radialaxis": {
            "gridcolor": "white",
            "linecolor": "white",
            "ticks": ""
           }
          },
          "scene": {
           "xaxis": {
            "backgroundcolor": "#E5ECF6",
            "gridcolor": "white",
            "gridwidth": 2,
            "linecolor": "white",
            "showbackground": true,
            "ticks": "",
            "zerolinecolor": "white"
           },
           "yaxis": {
            "backgroundcolor": "#E5ECF6",
            "gridcolor": "white",
            "gridwidth": 2,
            "linecolor": "white",
            "showbackground": true,
            "ticks": "",
            "zerolinecolor": "white"
           },
           "zaxis": {
            "backgroundcolor": "#E5ECF6",
            "gridcolor": "white",
            "gridwidth": 2,
            "linecolor": "white",
            "showbackground": true,
            "ticks": "",
            "zerolinecolor": "white"
           }
          },
          "shapedefaults": {
           "line": {
            "color": "#2a3f5f"
           }
          },
          "ternary": {
           "aaxis": {
            "gridcolor": "white",
            "linecolor": "white",
            "ticks": ""
           },
           "baxis": {
            "gridcolor": "white",
            "linecolor": "white",
            "ticks": ""
           },
           "bgcolor": "#E5ECF6",
           "caxis": {
            "gridcolor": "white",
            "linecolor": "white",
            "ticks": ""
           }
          },
          "title": {
           "x": 0.05
          },
          "xaxis": {
           "automargin": true,
           "gridcolor": "white",
           "linecolor": "white",
           "ticks": "",
           "title": {
            "standoff": 15
           },
           "zerolinecolor": "white",
           "zerolinewidth": 2
          },
          "yaxis": {
           "automargin": true,
           "gridcolor": "white",
           "linecolor": "white",
           "ticks": "",
           "title": {
            "standoff": 15
           },
           "zerolinecolor": "white",
           "zerolinewidth": 2
          }
         }
        },
        "title": {
         "text": "Histogram stopnia węzłów",
         "x": 0.5,
         "xanchor": "center",
         "y": 0.9,
         "yanchor": "top"
        },
        "width": 800,
        "xaxis": {
         "anchor": "y",
         "autorange": true,
         "domain": [
          0,
          1
         ],
         "range": [
          -0.5,
          71.5
         ],
         "title": {
          "text": "Stopień węzła"
         },
         "type": "linear"
        },
        "yaxis": {
         "anchor": "x",
         "autorange": true,
         "domain": [
          0,
          1
         ],
         "range": [
          0,
          109.47368421052632
         ],
         "title": {
          "text": "count"
         }
        }
       }
      }
     },
     "metadata": {},
     "output_type": "display_data"
    }
   ],
   "source": [
    "fig = px.histogram(\n",
    "    [x[1] for x in graph_haters.degree()], title=\"Histogram stopnia węzłów\", width=800, height=600\n",
    ")\n",
    "fig.update_layout(\n",
    "    xaxis_title=\"Stopień węzła\",\n",
    "    title={\n",
    "        \"text\": \"Histogram stopnia węzłów\",\n",
    "        \"y\": 0.9,\n",
    "        \"x\": 0.5,\n",
    "        \"xanchor\": \"center\",\n",
    "        \"yanchor\": \"top\",\n",
    "    },\n",
    "    showlegend=False\n",
    ")\n",
    "fig.show()"
   ]
  },
  {
   "cell_type": "code",
   "execution_count": 59,
   "metadata": {},
   "outputs": [],
   "source": [
    "def nx_to_plotly_haters(graph: nx.Graph, save_name: Optional[str] = None):\n",
    "    positions = nx.drawing.layout.kamada_kawai_layout(graph, scale=20)\n",
    "\n",
    "    positions = nx.drawing.layout.kamada_kawai_layout(graph)\n",
    "    node_x = []\n",
    "    node_y = []\n",
    "\n",
    "    for node in graph:\n",
    "        x, y = positions[node]\n",
    "        node_x.append(x)\n",
    "        node_y.append(y)\n",
    "\n",
    "    node_trace = go.Scatter(\n",
    "        x=node_x,\n",
    "        y=node_y,\n",
    "        mode=\"markers\",\n",
    "        hoverinfo=\"text\",\n",
    "        text=list(graph.nodes()),\n",
    "        marker=dict(\n",
    "            size=10,\n",
    "            line_width=2,\n",
    "        ),\n",
    "    )\n",
    "\n",
    "    edge_x = []\n",
    "    edge_y = []\n",
    "\n",
    "    for edge in graph.edges():\n",
    "        x0, y0 = positions[edge[0]]\n",
    "        x1, y1 = positions[edge[1]]\n",
    "        edge_x.append(x0)\n",
    "        edge_x.append(x1)\n",
    "        edge_y.append(y0)\n",
    "        edge_y.append(y1)\n",
    "\n",
    "    edge_trace = go.Scatter(\n",
    "        x=edge_x,\n",
    "        y=edge_y,\n",
    "        line=dict(width=0.5, color=\"#888\"),\n",
    "        hoverinfo=\"none\",\n",
    "        mode=\"lines\",\n",
    "        showlegend=False,\n",
    "    )\n",
    "\n",
    "    fig = go.Figure(\n",
    "        data=[edge_trace, node_trace],\n",
    "        layout=go.Layout(\n",
    "            title={\n",
    "                \"text\": \"Interakcje między haterami\",\n",
    "                \"y\": 0.9,\n",
    "                \"x\": 0.5,\n",
    "                \"xanchor\": \"center\",\n",
    "                \"yanchor\": \"top\",\n",
    "            },\n",
    "            titlefont_size=16,\n",
    "            showlegend=False,\n",
    "            hovermode=\"closest\",\n",
    "            xaxis=dict(showgrid=False, zeroline=False, showticklabels=False),\n",
    "            yaxis=dict(showgrid=False, zeroline=False, showticklabels=False),\n",
    "            width=1000,\n",
    "            height=600,\n",
    "        ),\n",
    "    )\n",
    "\n",
    "    fig.show()"
   ]
  },
  {
   "cell_type": "code",
   "execution_count": 60,
   "metadata": {},
   "outputs": [
    {
     "data": {
      "application/vnd.plotly.v1+json": {
       "config": {
        "plotlyServerURL": "https://plot.ly"
       },
       "data": [
        {
         "hoverinfo": "none",
         "line": {
          "color": "#888",
          "width": 0.5
         },
         "mode": "lines",
         "showlegend": false,
         "type": "scatter",
         "x": [
          -0.3595643051838506,
          -0.32728732830422025,
          -0.32728732830422025,
          -0.403648156875674,
          -0.32728732830422025,
          -0.2764939947535935,
          -0.32728732830422025,
          -0.30220896794007535,
          -0.32728732830422025,
          -0.506313106823393,
          -0.32728732830422025,
          -0.3290388266056943,
          -0.32728732830422025,
          -0.44276646443711865,
          -0.32728732830422025,
          -0.5301620463174314,
          -0.32728732830422025,
          -0.23562322771297567,
          -0.32728732830422025,
          -0.549128725546087,
          -0.32728732830422025,
          -0.18630884045085772,
          -0.32728732830422025,
          -0.5635562307239169,
          -0.32728732830422025,
          -0.2545848232949046,
          -0.32728732830422025,
          -0.573864387786726,
          -0.32728732830422025,
          -0.5800933013721898,
          -0.32728732830422025,
          -0.3046006517923574,
          -0.32728732830422025,
          -0.5823437910993478,
          -0.32728732830422025,
          -0.5804566744918609,
          -0.32728732830422025,
          -0.2506221854826663,
          -0.32728732830422025,
          -0.009949792240007103,
          -0.32728732830422025,
          -0.10081164756625349,
          -0.32728732830422025,
          -0.4771775842990382,
          -0.2764939947535935,
          -0.10081164756625349,
          -0.30220896794007535,
          -0.527224446450633,
          -0.30220896794007535,
          -0.12442464909332497,
          -0.3290388266056943,
          -0.10081164756625349,
          0.5895371297197464,
          0.37411848046705176,
          0.37411848046705176,
          0.5795974471102345,
          0.37411848046705176,
          0.3303103118545271,
          0.37411848046705176,
          0.11753644613072914,
          0.37411848046705176,
          0.3197100409607963,
          0.37411848046705176,
          0.5900547088206088,
          0.37411848046705176,
          0.2780729897717293,
          0.37411848046705176,
          0.604491123462247,
          0.37411848046705176,
          0.3854481185712115,
          0.37411848046705176,
          0.36715556132415106,
          0.37411848046705176,
          0.38264034964349064,
          0.37411848046705176,
          0.3622012023811022,
          0.37411848046705176,
          0.58560924076616,
          0.37411848046705176,
          0.16529514919451616,
          0.37411848046705176,
          0.5763323827241102,
          0.37411848046705176,
          0.6042138952352776,
          0.3381460543654696,
          0.15871612923890818,
          0.15871612923890818,
          0.05243448375149,
          0.15871612923890818,
          0.06111927827957942,
          0.05243448375149,
          -0.10081164756625349,
          0.15919279267507083,
          -0.029426309896510627,
          -0.029426309896510627,
          -0.12442464909332497,
          -0.029426309896510627,
          -0.12305648365079204,
          -0.029426309896510627,
          0.0309887082366766,
          -0.23562322771297567,
          -0.10081164756625349,
          -0.18630884045085772,
          -0.12442464909332497,
          -0.18630884045085772,
          -0.10081164756625349,
          -0.2545848232949046,
          -0.2545848232949046,
          -0.2545848232949046,
          -0.10081164756625349,
          0.8320263971121348,
          0.6297801915816003,
          0.6297801915816003,
          0.6954524081656127,
          0.6297801915816003,
          0.33964284449933213,
          0.6297801915816003,
          0.858924524693543,
          0.6297801915816003,
          0.8584281555869688,
          0.6954524081656127,
          0.5256878128561308,
          0.15139442069947479,
          0.38264034964349064,
          0.15139442069947479,
          -0.10081164756625349,
          0.3303103118545271,
          0.10339368960103273,
          0.3303103118545271,
          0.3221045643671569,
          0.11753644613072914,
          -0.10081164756625349,
          0.11753644613072914,
          0.10339368960103273,
          0.06111927827957942,
          -0.12442464909332497,
          0.3197100409607963,
          0.10339368960103273,
          0.030714991391191628,
          -0.2602416022178914,
          0.030714991391191628,
          -0.10081164756625349,
          0.030714991391191628,
          0.33964284449933213,
          0.030714991391191628,
          -0.030660437135329618,
          0.030714991391191628,
          0.10339368960103273,
          -0.2602416022178914,
          -0.13956585403860414,
          0.4487261485906667,
          0.2780729897717293,
          0.2780729897717293,
          0.1236417990339292,
          0.2780729897717293,
          0.10850301536115103,
          0.2780729897717293,
          -0.009949792240007103,
          0.2780729897717293,
          0.4897219225446623,
          0.2780729897717293,
          -0.030660437135329618,
          0.1236417990339292,
          -0.10081164756625349,
          0.10850301536115103,
          -0.10081164756625349,
          -0.2506221854826663,
          -0.12442464909332497,
          -0.12442464909332497,
          -0.3110064254763318,
          -0.12442464909332497,
          -0.16299483038947588,
          -0.12442464909332497,
          -0.09135925117499871,
          -0.3110064254763318,
          -0.5190837487519107,
          -0.3110064254763318,
          -0.35983053649477137,
          -0.09135925117499871,
          -0.10081164756625349,
          0.3854481185712115,
          0.10339368960103273,
          0.36715556132415106,
          0.10339368960103273,
          -0.3046006517923574,
          -0.10081164756625349,
          0.3622012023811022,
          0.10339368960103273,
          0.16529514919451616,
          -0.10081164756625349,
          0.1803482498433429,
          0.12940151910352524,
          0.1803482498433429,
          0.10339368960103273,
          0.12940151910352524,
          -0.10081164756625349,
          0.12940151910352524,
          0.06469724238894399,
          0.12940151910352524,
          0.024201583669348905,
          0.12940151910352524,
          0.04706461519536446,
          0.12940151910352524,
          0.37406924159239746,
          0.12940151910352524,
          0.3529034066197299,
          0.12940151910352524,
          0.32015104803357936,
          0.04140949609634051,
          -0.10081164756625349,
          -0.10081164756625349,
          0.08613089111432051,
          -0.10081164756625349,
          -0.0017580422918232132,
          -0.10081164756625349,
          -0.04335999889116141,
          -0.10081164756625349,
          -0.1252871622377734,
          -0.10081164756625349,
          -0.1841288423951127,
          -0.10081164756625349,
          -0.24354274179344965,
          -0.10081164756625349,
          -0.12899535984307758,
          -0.10081164756625349,
          0.11077373827202024,
          -0.10081164756625349,
          -0.3042197789507022,
          -0.10081164756625349,
          -0.044851364499304554,
          -0.10081164756625349,
          -0.11405237085501331,
          -0.10081164756625349,
          -0.3491522178149111,
          -0.10081164756625349,
          0.012116307231124824,
          -0.10081164756625349,
          -0.08801216596508579,
          -0.10081164756625349,
          -0.19314793045155218,
          -0.10081164756625349,
          -0.31767959526842543,
          -0.10081164756625349,
          0.05906912558799799,
          -0.10081164756625349,
          -0.08229563186264645,
          -0.10081164756625349,
          -0.18086343366645716,
          -0.10081164756625349,
          -0.2465777034648101,
          -0.10081164756625349,
          -0.3613623452546138,
          -0.10081164756625349,
          0.06469724238894399,
          -0.10081164756625349,
          -0.2620399199137066,
          -0.10081164756625349,
          -0.36858639956084455,
          -0.10081164756625349,
          -0.010120630995778252,
          -0.10081164756625349,
          -0.05978524081152655,
          -0.10081164756625349,
          -0.2710202841557695,
          -0.10081164756625349,
          -0.308425204077752,
          -0.10081164756625349,
          0.04706461519536446,
          -0.10081164756625349,
          -0.3522383606934308,
          -0.10081164756625349,
          -0.36360249432083985,
          -0.10081164756625349,
          -0.21448348492664943,
          -0.10081164756625349,
          -0.32930298914935024,
          -0.10081164756625349,
          -0.2638035501211562,
          -0.10081164756625349,
          -0.1519497415651045,
          -0.10081164756625349,
          -0.3013593662318321,
          -0.10081164756625349,
          -0.01034816289868955,
          -0.10081164756625349,
          -0.22594011375935086,
          -0.10081164756625349,
          -0.10953044089581579,
          -0.10081164756625349,
          -0.18947522587945292,
          -0.10081164756625349,
          -0.005295439070987391,
          -0.10081164756625349,
          -0.0691213679416297,
          -0.10081164756625349,
          0.024201583669348905,
          -0.10081164756625349,
          -0.010986881257725475,
          -0.10081164756625349,
          0.04152571961286987,
          -0.10081164756625349,
          0.0780810368582862,
          -0.10081164756625349,
          -0.04149506443920222,
          -0.10081164756625349,
          0.04229562601930205,
          -0.10081164756625349,
          -0.1695863617831016,
          -0.10081164756625349,
          0.11668673785237257,
          -0.10081164756625349,
          -0.061207541175630015,
          -0.10081164756625349,
          -0.034554759216519744,
          -0.10081164756625349,
          -0.1739292936708819,
          -0.044851364499304554,
          0.10339368960103273,
          -0.08801216596508579,
          0.10339368960103273,
          0.06469724238894399,
          0.10339368960103273,
          0.04706461519536446,
          0.10339368960103273,
          -0.01034816289868955,
          0.10339368960103273,
          -0.0691213679416297,
          0.10339368960103273,
          0.024201583669348905,
          0.10339368960103273,
          -0.030660437135329618,
          -0.38091240127634646,
          -0.030660437135329618,
          -0.31775201545580667,
          0.048287390776006744,
          0.10339368960103273,
          0.10339368960103273,
          0.3439325865417818,
          0.10339368960103273,
          -0.0849401903067944,
          0.10339368960103273,
          -0.12193322746715068,
          0.10339368960103273,
          -0.08136686789912242,
          0.10339368960103273,
          -0.039118023727089564,
          0.10339368960103273,
          -0.13956585403860414,
          0.10339368960103273,
          0.003671410429041891,
          0.10339368960103273,
          0.3221045643671569,
          0.10339368960103273,
          -0.02984870778457032,
          0.10339368960103273,
          0.021213569120478573,
          0.10339368960103273,
          -0.034554759216519744,
          0.10339368960103273,
          0.09745190740939541,
          0.10339368960103273,
          0.075533998967478,
          0.10339368960103273,
          0.13567608160805775,
          0.10339368960103273,
          0.18280294877485825,
          0.10339368960103273,
          0.1953066560173923,
          0.10339368960103273,
          0.13405863512376054,
          0.10339368960103273,
          0.23268550325994444,
          0.10339368960103273,
          0.27262908844575634,
          0.10339368960103273,
          0.23019417257837954,
          0.10339368960103273,
          0.2882114088724354,
          0.3439325865417818,
          0.5256878128561308,
          0.5890350400594926,
          0.5256878128561308,
          0.150664994956687,
          0.21548018500505745
         ],
         "y": [
          0.4542788458232522,
          0.24800813126978327,
          0.24800813126978327,
          0.4328457392653196,
          0.24800813126978327,
          0.17134057558134752,
          0.24800813126978327,
          0.5009328446208006,
          0.24800813126978327,
          0.34048348424877517,
          0.24800813126978327,
          0.13009136137750119,
          0.24800813126978327,
          0.40542018085990394,
          0.24800813126978327,
          0.3042563907040706,
          0.24800813126978327,
          0.23245839415698205,
          0.24800813126978327,
          0.26641221562633854,
          0.24800813126978327,
          0.31339063830226055,
          0.24800813126978327,
          0.22737165453600183,
          0.24800813126978327,
          0.20022074125672237,
          0.24800813126978327,
          0.18744977192691226,
          0.24800813126978327,
          0.14676629599891344,
          0.24800813126978327,
          0.15192914744218364,
          0.24800813126978327,
          0.1054273618036841,
          0.24800813126978327,
          0.0634821165564438,
          0.24800813126978327,
          0.49916330213520826,
          0.24800813126978327,
          0.40428069197711924,
          0.24800813126978327,
          0.04516671872496491,
          0.24800813126978327,
          0.3744307873223552,
          0.17134057558134752,
          0.04516671872496491,
          0.5009328446208006,
          0.6247470214623546,
          0.5009328446208006,
          0.5754165321227196,
          0.13009136137750119,
          0.04516671872496491,
          -0.04464466317228961,
          -0.09960642023702382,
          -0.09960642023702382,
          -0.19430843694858568,
          -0.09960642023702382,
          -0.3159385210338172,
          -0.09960642023702382,
          -0.13230057594821043,
          -0.09960642023702382,
          -0.3495650616414199,
          -0.09960642023702382,
          -0.1421880041764643,
          -0.09960642023702382,
          0.08057387565188251,
          -0.09960642023702382,
          -0.09269155047779859,
          -0.09960642023702382,
          -0.33849101285175826,
          -0.09960642023702382,
          -0.3064160230283695,
          -0.09960642023702382,
          0.06794389812807054,
          -0.09960642023702382,
          -0.36277839994419514,
          -0.09960642023702382,
          0.04788758360242431,
          -0.09960642023702382,
          0.01441984264896425,
          -0.09960642023702382,
          0.09432334695472692,
          -0.09960642023702382,
          0.0025927438029981443,
          0.6725456817384978,
          0.5215466244146153,
          0.5215466244146153,
          0.30117457797851893,
          0.5215466244146153,
          0.720922528157516,
          0.30117457797851893,
          0.04516671872496491,
          0.9520253129171652,
          0.790054378349142,
          0.790054378349142,
          0.5754165321227196,
          0.790054378349142,
          1,
          0.790054378349142,
          0.9927305083812071,
          0.23245839415698205,
          0.04516671872496491,
          0.31339063830226055,
          0.5754165321227196,
          0.31339063830226055,
          0.04516671872496491,
          0.20022074125672237,
          0.20022074125672237,
          0.20022074125672237,
          0.04516671872496491,
          -0.33730118944083803,
          -0.24672178239447454,
          -0.24672178239447454,
          -0.5143300360142341,
          -0.24672178239447454,
          -0.1602555595804973,
          -0.24672178239447454,
          -0.20706160387221023,
          -0.24672178239447454,
          -0.08760598091925224,
          -0.5143300360142341,
          -0.6643706985871083,
          0.11428168095751189,
          0.06794389812807054,
          0.11428168095751189,
          0.04516671872496491,
          -0.3159385210338172,
          -0.39209436325510705,
          -0.3159385210338172,
          -0.4508370477120794,
          -0.13230057594821043,
          0.04516671872496491,
          -0.13230057594821043,
          -0.39209436325510705,
          0.720922528157516,
          0.5754165321227196,
          -0.3495650616414199,
          -0.39209436325510705,
          -0.2017830767809436,
          -0.3939696110864844,
          -0.2017830767809436,
          0.04516671872496491,
          -0.2017830767809436,
          -0.1602555595804973,
          -0.2017830767809436,
          -0.33040308421578096,
          -0.2017830767809436,
          -0.39209436325510705,
          -0.3939696110864844,
          -0.5365686342986823,
          0.33939141206741963,
          0.08057387565188251,
          0.08057387565188251,
          0.08085661217629195,
          0.08057387565188251,
          0.04638704457008247,
          0.08057387565188251,
          0.40428069197711924,
          0.08057387565188251,
          0.28205076190077394,
          0.08057387565188251,
          -0.33040308421578096,
          0.08085661217629195,
          0.04516671872496491,
          0.04638704457008247,
          0.04516671872496491,
          0.49916330213520826,
          0.5754165321227196,
          0.5754165321227196,
          0.7545189439956151,
          0.5754165321227196,
          0.7645796108518086,
          0.5754165321227196,
          0.3395402125634754,
          0.7545189439956151,
          0.8826539078480906,
          0.7545189439956151,
          0.960941256836981,
          0.3395402125634754,
          0.04516671872496491,
          -0.33849101285175826,
          -0.39209436325510705,
          -0.3064160230283695,
          -0.39209436325510705,
          0.15192914744218364,
          0.04516671872496491,
          -0.36277839994419514,
          -0.39209436325510705,
          0.01441984264896425,
          0.04516671872496491,
          -0.27792691365497024,
          -0.01201935908049678,
          -0.27792691365497024,
          -0.39209436325510705,
          -0.01201935908049678,
          0.04516671872496491,
          -0.01201935908049678,
          -0.14606295897159352,
          -0.01201935908049678,
          -0.15830991583701182,
          -0.01201935908049678,
          -0.15587049506102063,
          -0.01201935908049678,
          0.1402712642356146,
          -0.01201935908049678,
          0.2079596768877763,
          -0.01201935908049678,
          0.2707969925805561,
          0.2519697947714563,
          0.04516671872496491,
          0.04516671872496491,
          0.2439214426127465,
          0.04516671872496491,
          0.28270438684593746,
          0.04516671872496491,
          0.2865172477227173,
          0.04516671872496491,
          0.21146039992578863,
          0.04516671872496491,
          0.17317910025723174,
          0.04516671872496491,
          0.09616348724246265,
          0.04516671872496491,
          0.2709790357898991,
          0.04516671872496491,
          0.20987753166511156,
          0.04516671872496491,
          0.06791338773455152,
          0.04516671872496491,
          -0.21772294568155243,
          0.04516671872496491,
          0.14055244864014696,
          0.04516671872496491,
          0.06398856245599152,
          0.04516671872496491,
          0.15657063976784252,
          0.04516671872496491,
          -0.22966909198252186,
          0.04516671872496491,
          0.03203895148482272,
          0.04516671872496491,
          -0.007220462717337129,
          0.04516671872496491,
          0.19666655635444855,
          0.04516671872496491,
          0.2673226239700822,
          0.04516671872496491,
          0.1074040695735983,
          0.04516671872496491,
          -0.0406359422419598,
          0.04516671872496491,
          0.024115263981142554,
          0.04516671872496491,
          -0.14606295897159352,
          0.04516671872496491,
          0.02341647287263258,
          0.04516671872496491,
          -0.017522249671633832,
          0.04516671872496491,
          0.22711347909012747,
          0.04516671872496491,
          -0.03128676036630761,
          0.04516671872496491,
          -0.11222239072426843,
          0.04516671872496491,
          -0.06656357694418225,
          0.04516671872496491,
          -0.15587049506102063,
          0.04516671872496491,
          -0.09365289192650433,
          0.04516671872496491,
          -0.05633551317263929,
          0.04516671872496491,
          -0.09553367015912886,
          0.04516671872496491,
          -0.12394661163912542,
          0.04516671872496491,
          -0.16530942011445526,
          0.04516671872496491,
          -0.09952728829335998,
          0.04516671872496491,
          -0.15064982309934227,
          0.04516671872496491,
          -0.19291293729065911,
          0.04516671872496491,
          -0.16519510865477116,
          0.04516671872496491,
          -0.05838402297133701,
          0.04516671872496491,
          -0.14317551574449452,
          0.04516671872496491,
          -0.012863353823078835,
          0.04516671872496491,
          -0.21758304330280395,
          0.04516671872496491,
          -0.15830991583701182,
          0.04516671872496491,
          0.0522914680147443,
          0.04516671872496491,
          0.014663136428321885,
          0.04516671872496491,
          0.136150643596126,
          0.04516671872496491,
          0.12154641932928052,
          0.04516671872496491,
          0.08615510055714624,
          0.04516671872496491,
          -0.032581187105704734,
          0.04516671872496491,
          0.16964131193437618,
          0.04516671872496491,
          0.19841299997163658,
          0.04516671872496491,
          -0.19630351515754632,
          0.04516671872496491,
          0.24127670079159194,
          -0.21772294568155243,
          -0.39209436325510705,
          -0.22966909198252186,
          -0.39209436325510705,
          -0.14606295897159352,
          -0.39209436325510705,
          -0.15587049506102063,
          -0.39209436325510705,
          -0.19291293729065911,
          -0.39209436325510705,
          -0.21758304330280395,
          -0.39209436325510705,
          -0.15830991583701182,
          -0.39209436325510705,
          -0.33040308421578096,
          -0.5021154514984135,
          -0.33040308421578096,
          -0.5529824618929039,
          -0.5438596315631786,
          -0.39209436325510705,
          -0.39209436325510705,
          -0.5279402806621419,
          -0.39209436325510705,
          -0.5437951169314239,
          -0.39209436325510705,
          -0.5829395592428549,
          -0.39209436325510705,
          -0.6078911653970911,
          -0.39209436325510705,
          -0.6316738803226312,
          -0.39209436325510705,
          -0.5365686342986823,
          -0.39209436325510705,
          -0.5936162489582016,
          -0.39209436325510705,
          -0.4508370477120794,
          -0.39209436325510705,
          -0.5416470181536677,
          -0.39209436325510705,
          -0.6454818807641257,
          -0.39209436325510705,
          -0.19630351515754632,
          -0.39209436325510705,
          -0.5920755985330678,
          -0.39209436325510705,
          -0.6463150116135247,
          -0.39209436325510705,
          -0.6382780260675592,
          -0.39209436325510705,
          -0.618236712518595,
          -0.39209436325510705,
          -0.5478391689808809,
          -0.39209436325510705,
          -0.5366315871699374,
          -0.39209436325510705,
          -0.5977843298316395,
          -0.39209436325510705,
          -0.5619383568543476,
          -0.39209436325510705,
          -0.4962803248470067,
          -0.39209436325510705,
          -0.508702883985066,
          -0.5279402806621419,
          -0.6643706985871083,
          -0.8753615964688749,
          -0.6643706985871083,
          -0.15589645296315846,
          0.025747159546117535
         ]
        },
        {
         "hoverinfo": "text",
         "marker": {
          "line": {
           "width": 2
          },
          "size": 10
         },
         "mode": "markers",
         "text": [
          "Arystokrata1",
          "Damian23746637",
          "Sen09326493",
          "UrszulaWodarcz1",
          "KC_PIS",
          "Jonny50048596",
          "Piotr48568589",
          "Marcin90154469",
          "JakubMokotow",
          "obodryt",
          "81336f18ab08468",
          "MarekMa32433534",
          "AC230W",
          "krzysieklesko",
          "lili_pom112",
          "JotPaolo",
          "Matt30491354",
          "JackPot94975702",
          "LidiaKamik",
          "alfie69862633",
          "Jarek49276650",
          "nan",
          "PaniaMania",
          "MikolajDumas",
          "eljabd",
          "MirAS44842301",
          "Micha10515917",
          "prowokator_pink",
          "Pawe98043031",
          "Deszczowiec2",
          "NormannFranz",
          "Bobik57",
          "Leth0N",
          "dyzma_endrju",
          "Marcin93720740",
          "r_gadekr",
          "Werny_Hora",
          "m_ql2_8",
          "zolkaa73",
          "nowyanni211121",
          "Trever131313",
          "Krzyszt15304826",
          "Martin93229280",
          "KotSzary",
          "ProstyLud",
          "Bebzon_Higgsa",
          "ekrolczyk130",
          "m_sobolewski",
          "LeszekSg",
          "PiechowiakMicha",
          "Piotr_Hor",
          "jbart_xy",
          "MBalawelder",
          "Mariusz78899789",
          "rtoipikswelisaw",
          "Robert99813038",
          "CHARZYNSKIKAROL",
          "Jegomo6",
          "thought_silence",
          "MichalBayek",
          "Brygid6Brygid",
          "MarcinSnopkowsk",
          "freakazoid577",
          "AM_Zukowska",
          "smbarja",
          "Marzenk49281186",
          "konsTYtucJApl",
          "MariuszZaremba",
          "KonTrowertyk",
          "kerimXDguleryuz",
          "perukajanecki",
          "ryu_pl",
          "kloczek",
          "Kreator1122",
          "Piter91505907",
          "HenrykGandecki",
          "pikselpiesel",
          "_CaptainGrumpy",
          "plmiki1",
          "aneta_moscicka",
          "Strykasia",
          "oliwer_c",
          "MarekBRTZ",
          "MarekKalnicki",
          "BetuniaBbk2020",
          "Koloproktologi1",
          "Bolek114",
          "Barbara09957212",
          "free_warsaw",
          "wildcat1461",
          "AngelikaZieli12",
          "Modrzejewski_M",
          "darek2dk",
          "MorawskaRenata",
          "przwrz",
          "HubertZaniewicz",
          "michalmaciej_",
          "tamija64",
          "AOrnacki",
          "BalcerekJozef",
          "ewikatoja",
          "JcObywatel",
          "DziadzioRoza",
          "RdzennyKujawiak",
          "adriann38rak",
          "Jagoda29623120",
          "Dorota43190862",
          "BossoSem",
          "wojciechladny1",
          "MattStolzman",
          "Zyga63217370",
          "SlawomiraR",
          "LewyDoPrawego",
          "R42721661",
          "__rorschach___",
          "RobertW05190727",
          "notezka",
          "Wiesaw25401930",
          "Pabloes63926462",
          "szejnfeld",
          "JustynaIzabela5",
          "Outside58054475",
          "egizelska",
          "APolak85",
          "kicikocio",
          "LemingowOwca",
          "Kazimie69235255",
          "Funfel06",
          "MarekWarsaw",
          "jorgus737",
          "kozlowski_grzes",
          "Wiesaw29299003",
          "DamowiczPawel",
          "MajorStuleja",
          "ProfNietzs",
          "RobertRsobol",
          "grzeeech2",
          "gallano27049831",
          "Wojciec59832415",
          "jureczek1111",
          "stoolejarz",
          "Andrzej22682709",
          "Wojtek18132471",
          "Maciek77759952",
          "Morfik78736536",
          "piniendzyniema",
          "zygmuntjagie1",
          "GCC49245083",
          "LechNowacki",
          "HENRYK10317052",
          "JacekKo11354585",
          "Krzyszt42647423",
          "robertpi9",
          "Sylvinha1",
          "gladysz88",
          "Dawid95001263"
         ],
         "type": "scatter",
         "x": [
          -0.3595643051838506,
          -0.32728732830422025,
          -0.403648156875674,
          -0.2764939947535935,
          -0.30220896794007535,
          -0.506313106823393,
          -0.3290388266056943,
          0.5895371297197464,
          0.37411848046705176,
          -0.44276646443711865,
          0.3381460543654696,
          0.15871612923890818,
          0.05243448375149,
          0.15919279267507083,
          -0.029426309896510627,
          -0.5301620463174314,
          -0.527224446450633,
          -0.23562322771297567,
          -0.549128725546087,
          -0.18630884045085772,
          -0.5635562307239169,
          -0.2545848232949046,
          -0.573864387786726,
          -0.5800933013721898,
          0.8320263971121348,
          0.6297801915816003,
          0.6954524081656127,
          0.5795974471102345,
          0.15139442069947479,
          0.38264034964349064,
          0.3303103118545271,
          0.11753644613072914,
          0.06111927827957942,
          0.3197100409607963,
          0.030714991391191628,
          -0.2602416022178914,
          0.4487261485906667,
          0.2780729897717293,
          0.5900547088206088,
          0.1236417990339292,
          0.10850301536115103,
          -0.009949792240007103,
          -0.2506221854826663,
          -0.12442464909332497,
          0.4897219225446623,
          -0.3110064254763318,
          -0.16299483038947588,
          -0.09135925117499871,
          -0.12305648365079204,
          0.604491123462247,
          0.3854481185712115,
          0.36715556132415106,
          -0.5190837487519107,
          -0.3046006517923574,
          0.3622012023811022,
          0.58560924076616,
          0.16529514919451616,
          0.5763323827241102,
          -0.5823437910993478,
          -0.5804566744918609,
          0.1803482498433429,
          0.12940151910352524,
          0.04140949609634051,
          -0.10081164756625349,
          0.08613089111432051,
          -0.0017580422918232132,
          -0.04335999889116141,
          -0.1252871622377734,
          -0.1841288423951127,
          -0.24354274179344965,
          -0.12899535984307758,
          0.11077373827202024,
          -0.3042197789507022,
          -0.044851364499304554,
          -0.11405237085501331,
          -0.3491522178149111,
          0.012116307231124824,
          -0.08801216596508579,
          -0.19314793045155218,
          -0.31767959526842543,
          0.05906912558799799,
          -0.08229563186264645,
          -0.18086343366645716,
          -0.2465777034648101,
          -0.3613623452546138,
          0.06469724238894399,
          -0.2620399199137066,
          -0.36858639956084455,
          -0.010120630995778252,
          -0.05978524081152655,
          -0.2710202841557695,
          -0.308425204077752,
          0.04706461519536446,
          -0.3522383606934308,
          -0.36360249432083985,
          -0.21448348492664943,
          -0.32930298914935024,
          -0.2638035501211562,
          -0.1519497415651045,
          -0.3013593662318321,
          -0.01034816289868955,
          -0.22594011375935086,
          -0.10953044089581579,
          -0.18947522587945292,
          -0.005295439070987391,
          -0.0691213679416297,
          0.024201583669348905,
          -0.010986881257725475,
          0.04152571961286987,
          0.0780810368582862,
          -0.04149506443920222,
          0.0309887082366766,
          0.6042138952352776,
          0.33964284449933213,
          0.04229562601930205,
          -0.030660437135329618,
          -0.38091240127634646,
          -0.31775201545580667,
          0.048287390776006744,
          0.10339368960103273,
          0.3439325865417818,
          -0.0849401903067944,
          -0.12193322746715068,
          -0.08136686789912242,
          -0.039118023727089564,
          -0.13956585403860414,
          0.003671410429041891,
          0.3221045643671569,
          -0.02984870778457032,
          0.021213569120478573,
          -0.034554759216519744,
          0.09745190740939541,
          0.075533998967478,
          0.13567608160805775,
          0.18280294877485825,
          0.1953066560173923,
          0.13405863512376054,
          0.23268550325994444,
          0.27262908844575634,
          0.5890350400594926,
          0.5256878128561308,
          0.23019417257837954,
          -0.1695863617831016,
          0.11668673785237257,
          -0.061207541175630015,
          -0.1739292936708819,
          0.2882114088724354,
          0.150664994956687,
          0.21548018500505745,
          0.858924524693543,
          0.8584281555869688,
          -0.4771775842990382,
          -0.35983053649477137,
          0.37406924159239746,
          0.3529034066197299,
          0.32015104803357936
         ],
         "y": [
          0.4542788458232522,
          0.24800813126978327,
          0.4328457392653196,
          0.17134057558134752,
          0.5009328446208006,
          0.34048348424877517,
          0.13009136137750119,
          -0.04464466317228961,
          -0.09960642023702382,
          0.40542018085990394,
          0.6725456817384978,
          0.5215466244146153,
          0.30117457797851893,
          0.9520253129171652,
          0.790054378349142,
          0.3042563907040706,
          0.6247470214623546,
          0.23245839415698205,
          0.26641221562633854,
          0.31339063830226055,
          0.22737165453600183,
          0.20022074125672237,
          0.18744977192691226,
          0.14676629599891344,
          -0.33730118944083803,
          -0.24672178239447454,
          -0.5143300360142341,
          -0.19430843694858568,
          0.11428168095751189,
          0.06794389812807054,
          -0.3159385210338172,
          -0.13230057594821043,
          0.720922528157516,
          -0.3495650616414199,
          -0.2017830767809436,
          -0.3939696110864844,
          0.33939141206741963,
          0.08057387565188251,
          -0.1421880041764643,
          0.08085661217629195,
          0.04638704457008247,
          0.40428069197711924,
          0.49916330213520826,
          0.5754165321227196,
          0.28205076190077394,
          0.7545189439956151,
          0.7645796108518086,
          0.3395402125634754,
          1,
          -0.09269155047779859,
          -0.33849101285175826,
          -0.3064160230283695,
          0.8826539078480906,
          0.15192914744218364,
          -0.36277839994419514,
          0.04788758360242431,
          0.01441984264896425,
          0.09432334695472692,
          0.1054273618036841,
          0.0634821165564438,
          -0.27792691365497024,
          -0.01201935908049678,
          0.2519697947714563,
          0.04516671872496491,
          0.2439214426127465,
          0.28270438684593746,
          0.2865172477227173,
          0.21146039992578863,
          0.17317910025723174,
          0.09616348724246265,
          0.2709790357898991,
          0.20987753166511156,
          0.06791338773455152,
          -0.21772294568155243,
          0.14055244864014696,
          0.06398856245599152,
          0.15657063976784252,
          -0.22966909198252186,
          0.03203895148482272,
          -0.007220462717337129,
          0.19666655635444855,
          0.2673226239700822,
          0.1074040695735983,
          -0.0406359422419598,
          0.024115263981142554,
          -0.14606295897159352,
          0.02341647287263258,
          -0.017522249671633832,
          0.22711347909012747,
          -0.03128676036630761,
          -0.11222239072426843,
          -0.06656357694418225,
          -0.15587049506102063,
          -0.09365289192650433,
          -0.05633551317263929,
          -0.09553367015912886,
          -0.12394661163912542,
          -0.16530942011445526,
          -0.09952728829335998,
          -0.15064982309934227,
          -0.19291293729065911,
          -0.16519510865477116,
          -0.05838402297133701,
          -0.14317551574449452,
          -0.012863353823078835,
          -0.21758304330280395,
          -0.15830991583701182,
          0.0522914680147443,
          0.014663136428321885,
          0.136150643596126,
          0.12154641932928052,
          0.9927305083812071,
          0.0025927438029981443,
          -0.1602555595804973,
          0.08615510055714624,
          -0.33040308421578096,
          -0.5021154514984135,
          -0.5529824618929039,
          -0.5438596315631786,
          -0.39209436325510705,
          -0.5279402806621419,
          -0.5437951169314239,
          -0.5829395592428549,
          -0.6078911653970911,
          -0.6316738803226312,
          -0.5365686342986823,
          -0.5936162489582016,
          -0.4508370477120794,
          -0.5416470181536677,
          -0.6454818807641257,
          -0.19630351515754632,
          -0.5920755985330678,
          -0.6463150116135247,
          -0.6382780260675592,
          -0.618236712518595,
          -0.5478391689808809,
          -0.5366315871699374,
          -0.5977843298316395,
          -0.5619383568543476,
          -0.8753615964688749,
          -0.6643706985871083,
          -0.4962803248470067,
          -0.032581187105704734,
          0.16964131193437618,
          0.19841299997163658,
          0.24127670079159194,
          -0.508702883985066,
          -0.15589645296315846,
          0.025747159546117535,
          -0.20706160387221023,
          -0.08760598091925224,
          0.3744307873223552,
          0.960941256836981,
          0.1402712642356146,
          0.2079596768877763,
          0.2707969925805561
         ]
        }
       ],
       "layout": {
        "height": 600,
        "hovermode": "closest",
        "showlegend": false,
        "template": {
         "data": {
          "bar": [
           {
            "error_x": {
             "color": "#2a3f5f"
            },
            "error_y": {
             "color": "#2a3f5f"
            },
            "marker": {
             "line": {
              "color": "#E5ECF6",
              "width": 0.5
             },
             "pattern": {
              "fillmode": "overlay",
              "size": 10,
              "solidity": 0.2
             }
            },
            "type": "bar"
           }
          ],
          "barpolar": [
           {
            "marker": {
             "line": {
              "color": "#E5ECF6",
              "width": 0.5
             },
             "pattern": {
              "fillmode": "overlay",
              "size": 10,
              "solidity": 0.2
             }
            },
            "type": "barpolar"
           }
          ],
          "carpet": [
           {
            "aaxis": {
             "endlinecolor": "#2a3f5f",
             "gridcolor": "white",
             "linecolor": "white",
             "minorgridcolor": "white",
             "startlinecolor": "#2a3f5f"
            },
            "baxis": {
             "endlinecolor": "#2a3f5f",
             "gridcolor": "white",
             "linecolor": "white",
             "minorgridcolor": "white",
             "startlinecolor": "#2a3f5f"
            },
            "type": "carpet"
           }
          ],
          "choropleth": [
           {
            "colorbar": {
             "outlinewidth": 0,
             "ticks": ""
            },
            "type": "choropleth"
           }
          ],
          "contour": [
           {
            "colorbar": {
             "outlinewidth": 0,
             "ticks": ""
            },
            "colorscale": [
             [
              0,
              "#0d0887"
             ],
             [
              0.1111111111111111,
              "#46039f"
             ],
             [
              0.2222222222222222,
              "#7201a8"
             ],
             [
              0.3333333333333333,
              "#9c179e"
             ],
             [
              0.4444444444444444,
              "#bd3786"
             ],
             [
              0.5555555555555556,
              "#d8576b"
             ],
             [
              0.6666666666666666,
              "#ed7953"
             ],
             [
              0.7777777777777778,
              "#fb9f3a"
             ],
             [
              0.8888888888888888,
              "#fdca26"
             ],
             [
              1,
              "#f0f921"
             ]
            ],
            "type": "contour"
           }
          ],
          "contourcarpet": [
           {
            "colorbar": {
             "outlinewidth": 0,
             "ticks": ""
            },
            "type": "contourcarpet"
           }
          ],
          "heatmap": [
           {
            "colorbar": {
             "outlinewidth": 0,
             "ticks": ""
            },
            "colorscale": [
             [
              0,
              "#0d0887"
             ],
             [
              0.1111111111111111,
              "#46039f"
             ],
             [
              0.2222222222222222,
              "#7201a8"
             ],
             [
              0.3333333333333333,
              "#9c179e"
             ],
             [
              0.4444444444444444,
              "#bd3786"
             ],
             [
              0.5555555555555556,
              "#d8576b"
             ],
             [
              0.6666666666666666,
              "#ed7953"
             ],
             [
              0.7777777777777778,
              "#fb9f3a"
             ],
             [
              0.8888888888888888,
              "#fdca26"
             ],
             [
              1,
              "#f0f921"
             ]
            ],
            "type": "heatmap"
           }
          ],
          "heatmapgl": [
           {
            "colorbar": {
             "outlinewidth": 0,
             "ticks": ""
            },
            "colorscale": [
             [
              0,
              "#0d0887"
             ],
             [
              0.1111111111111111,
              "#46039f"
             ],
             [
              0.2222222222222222,
              "#7201a8"
             ],
             [
              0.3333333333333333,
              "#9c179e"
             ],
             [
              0.4444444444444444,
              "#bd3786"
             ],
             [
              0.5555555555555556,
              "#d8576b"
             ],
             [
              0.6666666666666666,
              "#ed7953"
             ],
             [
              0.7777777777777778,
              "#fb9f3a"
             ],
             [
              0.8888888888888888,
              "#fdca26"
             ],
             [
              1,
              "#f0f921"
             ]
            ],
            "type": "heatmapgl"
           }
          ],
          "histogram": [
           {
            "marker": {
             "pattern": {
              "fillmode": "overlay",
              "size": 10,
              "solidity": 0.2
             }
            },
            "type": "histogram"
           }
          ],
          "histogram2d": [
           {
            "colorbar": {
             "outlinewidth": 0,
             "ticks": ""
            },
            "colorscale": [
             [
              0,
              "#0d0887"
             ],
             [
              0.1111111111111111,
              "#46039f"
             ],
             [
              0.2222222222222222,
              "#7201a8"
             ],
             [
              0.3333333333333333,
              "#9c179e"
             ],
             [
              0.4444444444444444,
              "#bd3786"
             ],
             [
              0.5555555555555556,
              "#d8576b"
             ],
             [
              0.6666666666666666,
              "#ed7953"
             ],
             [
              0.7777777777777778,
              "#fb9f3a"
             ],
             [
              0.8888888888888888,
              "#fdca26"
             ],
             [
              1,
              "#f0f921"
             ]
            ],
            "type": "histogram2d"
           }
          ],
          "histogram2dcontour": [
           {
            "colorbar": {
             "outlinewidth": 0,
             "ticks": ""
            },
            "colorscale": [
             [
              0,
              "#0d0887"
             ],
             [
              0.1111111111111111,
              "#46039f"
             ],
             [
              0.2222222222222222,
              "#7201a8"
             ],
             [
              0.3333333333333333,
              "#9c179e"
             ],
             [
              0.4444444444444444,
              "#bd3786"
             ],
             [
              0.5555555555555556,
              "#d8576b"
             ],
             [
              0.6666666666666666,
              "#ed7953"
             ],
             [
              0.7777777777777778,
              "#fb9f3a"
             ],
             [
              0.8888888888888888,
              "#fdca26"
             ],
             [
              1,
              "#f0f921"
             ]
            ],
            "type": "histogram2dcontour"
           }
          ],
          "mesh3d": [
           {
            "colorbar": {
             "outlinewidth": 0,
             "ticks": ""
            },
            "type": "mesh3d"
           }
          ],
          "parcoords": [
           {
            "line": {
             "colorbar": {
              "outlinewidth": 0,
              "ticks": ""
             }
            },
            "type": "parcoords"
           }
          ],
          "pie": [
           {
            "automargin": true,
            "type": "pie"
           }
          ],
          "scatter": [
           {
            "marker": {
             "colorbar": {
              "outlinewidth": 0,
              "ticks": ""
             }
            },
            "type": "scatter"
           }
          ],
          "scatter3d": [
           {
            "line": {
             "colorbar": {
              "outlinewidth": 0,
              "ticks": ""
             }
            },
            "marker": {
             "colorbar": {
              "outlinewidth": 0,
              "ticks": ""
             }
            },
            "type": "scatter3d"
           }
          ],
          "scattercarpet": [
           {
            "marker": {
             "colorbar": {
              "outlinewidth": 0,
              "ticks": ""
             }
            },
            "type": "scattercarpet"
           }
          ],
          "scattergeo": [
           {
            "marker": {
             "colorbar": {
              "outlinewidth": 0,
              "ticks": ""
             }
            },
            "type": "scattergeo"
           }
          ],
          "scattergl": [
           {
            "marker": {
             "colorbar": {
              "outlinewidth": 0,
              "ticks": ""
             }
            },
            "type": "scattergl"
           }
          ],
          "scattermapbox": [
           {
            "marker": {
             "colorbar": {
              "outlinewidth": 0,
              "ticks": ""
             }
            },
            "type": "scattermapbox"
           }
          ],
          "scatterpolar": [
           {
            "marker": {
             "colorbar": {
              "outlinewidth": 0,
              "ticks": ""
             }
            },
            "type": "scatterpolar"
           }
          ],
          "scatterpolargl": [
           {
            "marker": {
             "colorbar": {
              "outlinewidth": 0,
              "ticks": ""
             }
            },
            "type": "scatterpolargl"
           }
          ],
          "scatterternary": [
           {
            "marker": {
             "colorbar": {
              "outlinewidth": 0,
              "ticks": ""
             }
            },
            "type": "scatterternary"
           }
          ],
          "surface": [
           {
            "colorbar": {
             "outlinewidth": 0,
             "ticks": ""
            },
            "colorscale": [
             [
              0,
              "#0d0887"
             ],
             [
              0.1111111111111111,
              "#46039f"
             ],
             [
              0.2222222222222222,
              "#7201a8"
             ],
             [
              0.3333333333333333,
              "#9c179e"
             ],
             [
              0.4444444444444444,
              "#bd3786"
             ],
             [
              0.5555555555555556,
              "#d8576b"
             ],
             [
              0.6666666666666666,
              "#ed7953"
             ],
             [
              0.7777777777777778,
              "#fb9f3a"
             ],
             [
              0.8888888888888888,
              "#fdca26"
             ],
             [
              1,
              "#f0f921"
             ]
            ],
            "type": "surface"
           }
          ],
          "table": [
           {
            "cells": {
             "fill": {
              "color": "#EBF0F8"
             },
             "line": {
              "color": "white"
             }
            },
            "header": {
             "fill": {
              "color": "#C8D4E3"
             },
             "line": {
              "color": "white"
             }
            },
            "type": "table"
           }
          ]
         },
         "layout": {
          "annotationdefaults": {
           "arrowcolor": "#2a3f5f",
           "arrowhead": 0,
           "arrowwidth": 1
          },
          "autotypenumbers": "strict",
          "coloraxis": {
           "colorbar": {
            "outlinewidth": 0,
            "ticks": ""
           }
          },
          "colorscale": {
           "diverging": [
            [
             0,
             "#8e0152"
            ],
            [
             0.1,
             "#c51b7d"
            ],
            [
             0.2,
             "#de77ae"
            ],
            [
             0.3,
             "#f1b6da"
            ],
            [
             0.4,
             "#fde0ef"
            ],
            [
             0.5,
             "#f7f7f7"
            ],
            [
             0.6,
             "#e6f5d0"
            ],
            [
             0.7,
             "#b8e186"
            ],
            [
             0.8,
             "#7fbc41"
            ],
            [
             0.9,
             "#4d9221"
            ],
            [
             1,
             "#276419"
            ]
           ],
           "sequential": [
            [
             0,
             "#0d0887"
            ],
            [
             0.1111111111111111,
             "#46039f"
            ],
            [
             0.2222222222222222,
             "#7201a8"
            ],
            [
             0.3333333333333333,
             "#9c179e"
            ],
            [
             0.4444444444444444,
             "#bd3786"
            ],
            [
             0.5555555555555556,
             "#d8576b"
            ],
            [
             0.6666666666666666,
             "#ed7953"
            ],
            [
             0.7777777777777778,
             "#fb9f3a"
            ],
            [
             0.8888888888888888,
             "#fdca26"
            ],
            [
             1,
             "#f0f921"
            ]
           ],
           "sequentialminus": [
            [
             0,
             "#0d0887"
            ],
            [
             0.1111111111111111,
             "#46039f"
            ],
            [
             0.2222222222222222,
             "#7201a8"
            ],
            [
             0.3333333333333333,
             "#9c179e"
            ],
            [
             0.4444444444444444,
             "#bd3786"
            ],
            [
             0.5555555555555556,
             "#d8576b"
            ],
            [
             0.6666666666666666,
             "#ed7953"
            ],
            [
             0.7777777777777778,
             "#fb9f3a"
            ],
            [
             0.8888888888888888,
             "#fdca26"
            ],
            [
             1,
             "#f0f921"
            ]
           ]
          },
          "colorway": [
           "#636efa",
           "#EF553B",
           "#00cc96",
           "#ab63fa",
           "#FFA15A",
           "#19d3f3",
           "#FF6692",
           "#B6E880",
           "#FF97FF",
           "#FECB52"
          ],
          "font": {
           "color": "#2a3f5f"
          },
          "geo": {
           "bgcolor": "white",
           "lakecolor": "white",
           "landcolor": "#E5ECF6",
           "showlakes": true,
           "showland": true,
           "subunitcolor": "white"
          },
          "hoverlabel": {
           "align": "left"
          },
          "hovermode": "closest",
          "mapbox": {
           "style": "light"
          },
          "paper_bgcolor": "white",
          "plot_bgcolor": "#E5ECF6",
          "polar": {
           "angularaxis": {
            "gridcolor": "white",
            "linecolor": "white",
            "ticks": ""
           },
           "bgcolor": "#E5ECF6",
           "radialaxis": {
            "gridcolor": "white",
            "linecolor": "white",
            "ticks": ""
           }
          },
          "scene": {
           "xaxis": {
            "backgroundcolor": "#E5ECF6",
            "gridcolor": "white",
            "gridwidth": 2,
            "linecolor": "white",
            "showbackground": true,
            "ticks": "",
            "zerolinecolor": "white"
           },
           "yaxis": {
            "backgroundcolor": "#E5ECF6",
            "gridcolor": "white",
            "gridwidth": 2,
            "linecolor": "white",
            "showbackground": true,
            "ticks": "",
            "zerolinecolor": "white"
           },
           "zaxis": {
            "backgroundcolor": "#E5ECF6",
            "gridcolor": "white",
            "gridwidth": 2,
            "linecolor": "white",
            "showbackground": true,
            "ticks": "",
            "zerolinecolor": "white"
           }
          },
          "shapedefaults": {
           "line": {
            "color": "#2a3f5f"
           }
          },
          "ternary": {
           "aaxis": {
            "gridcolor": "white",
            "linecolor": "white",
            "ticks": ""
           },
           "baxis": {
            "gridcolor": "white",
            "linecolor": "white",
            "ticks": ""
           },
           "bgcolor": "#E5ECF6",
           "caxis": {
            "gridcolor": "white",
            "linecolor": "white",
            "ticks": ""
           }
          },
          "title": {
           "x": 0.05
          },
          "xaxis": {
           "automargin": true,
           "gridcolor": "white",
           "linecolor": "white",
           "ticks": "",
           "title": {
            "standoff": 15
           },
           "zerolinecolor": "white",
           "zerolinewidth": 2
          },
          "yaxis": {
           "automargin": true,
           "gridcolor": "white",
           "linecolor": "white",
           "ticks": "",
           "title": {
            "standoff": 15
           },
           "zerolinecolor": "white",
           "zerolinewidth": 2
          }
         }
        },
        "title": {
         "font": {
          "size": 16
         },
         "text": "Interakcje między haterami",
         "x": 0.5,
         "xanchor": "center",
         "y": 0.9,
         "yanchor": "top"
        },
        "width": 1000,
        "xaxis": {
         "autorange": true,
         "range": [
          -0.6758759985465663,
          0.9524567321407615
         ],
         "showgrid": false,
         "showticklabels": false,
         "type": "linear",
         "zeroline": false
        },
        "yaxis": {
         "autorange": true,
         "range": [
          -1.0151799371084833,
          1.1398183406396083
         ],
         "showgrid": false,
         "showticklabels": false,
         "type": "linear",
         "zeroline": false
        }
       }
      }
     },
     "metadata": {},
     "output_type": "display_data"
    }
   ],
   "source": [
    "nx_to_plotly_haters(graph_haters)"
   ]
  },
  {
   "cell_type": "code",
   "execution_count": 65,
   "metadata": {},
   "outputs": [
    {
     "name": "stdout",
     "output_type": "stream",
     "text": [
      "['Represje katolików? Dla @pisorgpl to nie problem, pomimo głoszonych frazesów o ochronie wiary.', '@mac_kozlowski @PSocjalistyczna W marcu podobno macie kongres. I albo nastąpi wrogie przejęcie przez polityków, którzy z partią nie mieli dotąd nic wspólnego, albo socjaliści obronią PPS przed byciem trampoliną do miejsc na listach KO.', '@80gam_pl U nas pokutuje też zły stosunek do partii jako takich. Ludzie się do żadnej nie będą masowo zapisywać dopóki żyją ludzie, którzy używają zdania „byłeś w partii!” jako wyrzutu (mając na myśli PZPR).', '@szprotest @e_bartkowska Kcem', '@MateuszGotz @chmiels Daj spokój, woluntaryjnych nieuków już nie dokształcisz.', '@LaGosiaK W taki, że np. blokuje nielegalne eksmisje tych biednych.', '@Adam87139609 @julia3302 Nie ma. Wszak przyznał, że socjaliści są też choćby w @partiarazem. Tylko, żeby być socjalistą, nie wystarczy się zapisać do partii ze słowem „socjalistyczna” w nazwie.', '@RafalFrelek @airborell To się liczy dla politykierów, a nie polityków.', '.@KONFEDERACJA_ cynicznie gra na emocjach, wykorzystując ludzką podatność na teorie spiskowe. 100% obłudy i hipokryzji!', '@bmarganiec @slwstr Przecież to tylko perwersyjna przyjemność, że ta reklama jest na budynku mieszczącym siedzibę PiS.', '@wroblewski_m Przecież wiadomo od początku, że to ruch obliczony na załapanie się na okręt KO. Tylko w KO są już: PO, Zieloni, Inicjatywa Polska i Nowoczesna. A miejsc biorących ze 140 przy tych sondażach. A Tusk chce jeszcze wszak zaokrętować Hołownię. Robi się ciasno.', '@DawidOlejniczak Bieda, Panie, bieda aż piszczy. Nawet myszy głodne chodzą.', '@spalinskipatryk To idioci, a nie anarchiści.', '@80gam_pl I ucho Ci przypomina grzyba?', '@HowardCampbel @Radek05369166 @RobertRutowicz @senyszyn_joanna @PSocjalistyczna @Joanna_Senyszyn @__Lewica @pisorgpl Zadziwiające do jakich chorych kłamstw są w stanie posunąć się fanboje PO. W Pańskim wpisie jest tyle prawdy, co w zdaniu „Donald Tusk gwałci małe dzieci”.', '@BartZura Proszę - ban.', '@burdelu @KONFEDERACJA_ @MorawieckiM Oczywiście, że większość posłów jest zaszczepiona - także część posłów @KONFEDERACJA_ 😛 Więc czy to nie k… polityczne, jak ktoś jest zaszczepiony i sam - by politycznie zyskać - opowiada androny o szczepieniach, narażając wiele ludzkich istnień, które wierzą im w te bzdury?', '@A_Traczyk Skoro GMS może być socjalistką 💁🏻\\u200d♀️', '@mjaloszynska W ogóle. Cholerny smog.', '@kisielewiczj Nie wiem, to się trzeba dziennikarzy zapytać, czemu znad głowy robią zdjęcia posłom na sali plenarnej, jak głosują na cztery ręce, jak jedzą sałatkę czy jak oglądają pornosy w telefonie 💁🏻\\u200d♀️', '@tomczakjakub_ Podatność na korupcję to cecha osobowości, nie bierze się z biedy. Za takim, jak Pańskie, podejściem kryje się insynuacja, że osoby ubogie są statystycznie bardziej nieuczciwie niż bogate.', '@SybiKyme @MateuszGotz @PSocjalistyczna @Joanna_Senyszyn @senyszyn_joanna W tej chwili bawię się w rozmowę z fanatyczną o zaślepioną zwolenniczką KO. To jest niezła zabawa patrzeć, jak zwolenniczka demokracji porównuje Sejm do kibla.', '@SybiKyme @MartinSwidersky @MateuszGotz @PSocjalistyczna @Joanna_Senyszyn @senyszyn_joanna A Pani nie obchodziło przypadkiem jak ja głosuję? Całe tabuny Silnych Razem co posiedzenie Sejmu komentują na Twitterze kto jak w jakiej sprawie głosował i albo chwalą, albo wieszają psy - w każdym razie obchodzi to masę ludzi.', '@MateuszGotz @SybiKyme @PSocjalistyczna @Joanna_Senyszyn @senyszyn_joanna Jak Krystyna Pawłowicz siedziała bez butów, wpierniczając na sali sejmowej sałatkę, to z pewnością się Pani za nią ujęła, że to prymitywne podglądactwo, prawda?', '@SybiKyme @MateuszGotz @PSocjalistyczna @Joanna_Senyszyn @senyszyn_joanna Przecież w Sejmie robią to cały czas dziennikarze. Centralnie nad nami jest loża prasowa. To prymitywizm czy jawność działań publicznych?', '@GGanszczyk @EmilKulaga @spalinskipatryk Owszem, narracja lewicowa gospodarczo bardzo jej nie leżała.', '@MartinSwidersky @airborell @ReLucyna @GabrielaMorStan @__Lewica Ciałem nie, żeby robić za „prawdziwą lewicę”, ale duchem tak - od miesięcy głosuje jak PO.', '@FidelSarkastro @TomaszPiasecki @tiszantul @smnelken @MartinSwidersky @airborell @ReLucyna @GabrielaMorStan @__Lewica Mamo, czy możemy mieć socjalizm w domu?  Ale mamy już przecież PPS!   Socjalizm w domu..', '@WzyMarcin @RochZygmunt Nie, nie ma sensu rozmawiać z kimś, kto jednego dnia psioczy na żydowskie spiski, a drugiego sam się przyrównuje do ofiary Szoa.', '@m_krzyzynski Kapitalizm 💁🏻\\u200d♀️', '@krakusZkrata Zastanówmy się, hmmm, może ci, którzy bez przerwy pieprzą o żydowskim, ogólnoświatowym spisku, i wypisują mi takie rzeczy pod kartką z okazji Chanuki, że włos się jeży na głowie?', 'POV: kiedy jednocześnie nienawidzisz Żydów i się pod nich podpinasz.', '@szymonlasiewicz Na pewno się kiedyś przetniemy na ulicach na wielu demach, solidarnościówkach i protestach. Walcz. Umiesz to robić i robisz to dobrze. Ja podziwiam Twoje zaangażowanie! Więcej takich młodych z ogniem równości i sprawiedliwości społecznej w sercu i Polska dostanie skrzydeł!', '@FidelSarkastro @SilniRazem Ciepło witamy pod wspólnym czerwonym sztandarem, który upamiętnia krew przelaną przez robotników w strajkach przeciw kapitalistom, wszystkich tych, którzy chcą walczyć z kapitałem o prawa ludzi pracy! 🚩', '@mlodzi_pps Czekam na pierwsze ideowo socjalistyczne głosowania w sprawach społeczno-gospodarczych nowych parlamentarzystów PPS i wierzę, że w niektórych przypadkach one naprawdę będą… pierwsze. Wierzę, że tak będzie!  https://t.co/RraXbQn7F0', '@Piotr07243478 @Lewactwo @__Lewica Władza jest wtedy, kiedy ma się przewagę choćby jednego głosu w Sejmie. Nie ma znaczenia poziom procentowego poparcia, byleby mieć szable, bez których nie powstanie żaden rząd.', '@woj_raf @_mkonieczny Raczej ci towarzysze nie pałali miłością do socjalizmu.', '@LucasMiguel91 @__Lewica Co lewicowego ugrała dla wyborców pani GMS w Senacie?', '@neuron88 @Michalina_Kobla Ja nie lubię. I nie znam nikogo, kto by lubił odkurzać, mopować podłogi, wycierać kurz, prać, prasować czy myć okna. Robimy to, bo ktoś musi, i tyle.', '@KuczynskiG Jedno z.', '@Berniesson Dziwne, nie?', '@Herr_Apfelbaum @CzyngisB @KorolukM Halo, nie ma żadnej wolności do głoszenia poglądów rasistowskich. Tak jak nie ma żadnej wolności do głoszenia np. kanibalizmu czy chwalenia pedofilii. Ponieważ albowiem iż - są to przestępstwa.  https://t.co/LVgT2hUNU2', '@e_bartkowska A może przejdźmy do hybryd, które istnieją naprawdę? Muł, legrys, jaglew, tyglew, pumpart, kot bengalski, wilczak, żubroń, bitugan…', 'Po pierwsze, żaden młodziak nie ogarnia terminu „3 pokolenie UB”. Prawica żyje w jakimś skansenie.', '@_blusiara Uuu, to już termin „feministki” nie oznacza dla konserw włosów pod pachami, że się same tak określają? Niezłe postępy robi nasza prawica.', '@PTcza Aproszszsz..', '@2mara571 @MSmolanska Że też w tej dyskusji to pani Marta ma rację 🤔  A co jest w 22 TC? Poród? Na tym etapie może być - niestety - tylko naturalne lub wywołane (a więc aborcja) poronienie. Aborcja to po prostu przerwanie ciąży niekończące się przyjściem na świat żywego dziecka.', '@wPolityce_pl @michalkarnowski Odpowiadam: Jarosław Kaczyński.', '@UmiarRadykal @lis_tomasz @tvp_info W Polsce osoby publiczne wzmagają się moralnie i czują znieważone z powodu coraz drobniejszych pierdół. Jakby każdy polityk w Polsce miał latać do sądu z powodu tego, że ktoś mu zarzucił głupotę, to by się sądy na lata pozatykały od takich pozwów.', '@michal_piekos @KazulakMa @J_Wlodarczyk Dlatego tak naprawdę nic z tych badań CBOS-u nie wynika. No może to, że jak jeszcze dodatkowo Czarnek zlikwiduje WOS, to młodzi ludzie już będą mieli kompletną sieczkę w głowie na temat idei i doktryn politycznych.', '@jzoledziowska @michal_piekos Zgadzam się, deklarowane poglądy z reguły są przez respondentów identyfikowane jako stosunek do praw człowieka, innymi słowy jako tzw. liberalizm światopoglądowy. Nie idzie on często w parze z lewicowymi poglądami gospodarczymi.', '@athighmoon @__Lewica Dostaliśmy za to zaparkowane dla nas pieniądze z EFO które będzie wydawał najpewniej kolejny rząd. I owszem, wystawiłam sobie świadectwo państwowca myślącego o kraju i jego mieszkańcach.', '@WiolaKaminskaPL @bogdan607 @MSmolanska Niech to robią posłowie prawicy. Dmowski #notmyhero.', '@athighmoon @MarcinSnopkowsk @__Lewica A my w związku z tym musieliśmy zagłosować za, bo inaczej zablokowalibyśmy środki całej Unii (zmianę traktatu muszą ratyfikować wszystkie państwa). Zachowaliśmy się prowspólnotowo, odpowiedzialnie i patriotycznie.', '@athighmoon @__Lewica My nie mieliśmy niczego dostać. Nie rozumiem zdziwienia. Chociaż nie, właściwie to rozumiem, bo Silni Razem stworzyli teorie spiskowe i do dziś w nie wierzą.', '@athighmoon @__Lewica Lewica - żadnych. Mieszkania nie są dla partii politycznych. A my wybudujemy je dla ludzi kiedy przywrócimy praworządność w Polsce i zostaną uruchomione środki z Funduszu Odbudowy.', '@MSmolanska @WiolaKaminskaPL Owszem. Nawet zdrowy płód nie ma szans żyć dalej bez wód płodowych w macicy.', '@MSmolanska Na Prawo Pani Izy - do uratowania jej życia poprzez zabieg aborcji.', '@kpkrakowiak @AleksandraIwan6 @FMS_kraj 👏👏👏', '@anonek44 @__Lewica Kobiety to mniejszość? Actually, to w społeczeństwie większość 💁🏻\\u200d♀️ I ich prawa to prawa człowieka.', '@RabinGoldblatt @__Lewica Pomysł tak, realizacji już nie. Bo zrobimy to dopiero my, kiedy PiS straci władzę.', '@RabinGoldblatt @__Lewica Na razie słyszę, że jest jakiś plan. Ale podobno nie można go ujawnić, bo ukradnie go PiS!', '@zuzannaszewczyk Bycie prorokinią w tym kraju nigdy nie było łatwe 😇🙃', '@generalDax @agata_mburek @moon_s_o Ej @Twitter, nie ma lepszego threada ogólnie tu! Hasztag - #StartSegregacjiSanitarnej (tak dla przypomnienia 🤓)', '@moon_s_o @e_bartkowska @__NoHope__ Zdradzę Ci sekret: to nie było wino 😭', '@moon_s_o @bratbud @Ninnonnn @FidelSarkastro @LucasCranach_ Spod lady to może być salceson.', '@hubert_jot @tomczakjakub_ @szachmad @RabinGoldblatt Niewiele, naprawdę. Jednak zasada chojrak w necie…. (…). Sto razy więcej hejtu mnie spotyka w sieci, kiedy jednak nie ma interakcji z człowiekiem jako z człowiekiem, fizycznym bytem - z jego głosem na przykład.  Przed chwilą zadzwonił ktoś z Niemiec. Niestety się rozłączył.', '@ivanitomasz Zgadzam się!', '@FidelSarkastro @moon_s_o @LucasCranach_ To ja jestem chyba młodsza, bo u mnie nie było żadnego przytulańska do Mety, tylko Scyzoryk scyzork tak na mnie wołaaaają 🙄😭', '@FidelSarkastro @moon_s_o @LucasCranach_ Chcesz starym ludziom zabrać Metę, Ty ejdżysto Ty?! Może jeszcze zakazać Jacka Danielsa?!', '@moon_s_o @FidelSarkastro @LucasCranach_ Po trzydziestce jest się hubą drzewną. Po czterdziestce człowiek zamienia się w Enta. A potem smuga cienia, mrok i już cyk, można zostać szefową KE (63 lata),  prezydentem USA (79 lat) lub papieżem (84 lata).', '@DamskiK @SzJadczak @MatRatajczak Panie Komorniku, obawiam się, że za chwilę i tak nie będzie z czego windykować. Pan minister właśnie udał się na urlop. Nie zdziwię się, jak po urlopie okaże się człowiekiem całkowicie bezmajętnym 🤷🏻\\u200d♀️', '@DoRzeczy_pl @jerzKwasniewski Kiedyś TK orzeknie, że Ordo Iuris jest sprzeczne z konstytucją i się dopiero zdziwicie.', 'Sprawa jest prosta: kto rządzi w tym państwie? Władza cywilna, czy kościół katolicki?', '@ArturStelmasiak @tvn24 Niezależnie od tego, czy płód był zdrowy czy nie - umarł w macicy pani Izy i spowodował zakażenie jej organizmu. A można było po prostu nie czekać aż obumrze po tym, jak pacjentce całkowicie odeszły wody płodowe.', '@SamPereira_ @MarzenaPaczuska Pomogę: tę ciążę trzeba było w porę przerwać - ergo, dokonać ABORCJI - kiedy pojawiło się bezwodzie, a nie czekać, aż obumarły płód zacznie powodować sepsę u pacjentki.', 'Strasznie NOP-ami jest kompletnie nieuzasadnione. To celowa antyszczepionkowa propaganda. Bardziej niebezpieczna dla zdrowia populacji, niż jakiekolwiek NOP-y.', '@WitoldGlowacki Co miałaby robić? Nie wiem, może spieprzać przed Herodem? 🤔🤷🏻\\u200d♀️', '@Luftschiff_Zepp @von_kafka @olejnik_lukasz1 @polskawruinie2 Bzdura.', '@Hubert_TAG29 Mój ojciec pamięta, jak to Niemcy śpiewali. Nie kojarzy się to dobrze. I mogą sobie Niemcy tłumaczyć, że to XIX-wieczne junkierskie tradycje. A jednak po II WŚ te tradycje mają nieco inny wymiar. W Polsce taka inscenizacja podpadałaby pewnie pod propagowanie nazizmu.', '@Geno00713 @RobertLachowski @paczyzak Uuu. Papa.', '@DanutaUcinska @czarkye @wlodekczarzasty Nie jest w ruinie. Heroicznym wysiłkiem pracowników jeszcze jakoś daje sobie radę. Gdyby tylko ludzie chcieli się szczepić, to jest masa miejsc, w których można to zrobić, kolejek nie ma, terminy z dziś na jutro.', '@DanutaUcinska @czarkye @wlodekczarzasty Cała masa. Głównie to, że naród się nie szczepi, a dwie największe partie w Polsce, z których jedna rządzi, tchórzą w tej sprawie przed szurami.', '@WesolaL @wlodekczarzasty @agent25krk @__Lewica Serce miała Pani po lewej, rozum po prawej i dlatego głosuje Pani na chadecję. To nic złego, niech Pani głosuje! Tylko proszę nie odmawiać ludziom NAPRAWDĘ głosującym na lewicę (współcześnie, nie 20 lat temu o to tylko na Kwaśniewskiego) prawa do innego wyboru.', '@SamPereira_ @wlodekczarzasty @ZandbergRAZEM @PolaMatysiak @JoannaWicha @federapl @cpkorgpl @feminoteka Płód sam w sobie może był zdrowy, tego nie wiem. Istotne w tej historii jest to, że nie da się utrzymać ciąży bez wód płodowych. Po prostu nie da. Bez wód płodowych nawet pierwotnie zdrowy płód nie może się rozwijać, niestety.', '@szymon_holownia @rzeczpospolita „Zamiast zrozumienia, empatii i argumentów, które mogłyby przekonać do zdjęcia nogi z gazu, słyszę o rosnącej potrzebie stworzenia mechanizmu przymusu z jednej strony lub pogardę z drugiej”. Te mandaty drogowe to niedobra jest!  https://t.co/iHnDVEDeeG', '@tomitoja @M_K_Blonska Boszsz… 😱', '@Annamanchester8 @janbar91 @K_Paczkowski @Leszczyna @donaldtusk To znaczy że po tej dacie samorządowcy przestali uznawać te pieniądze za fundusz wyborczy PiS?', '@leon_lewy @ReLucyna @arekpisarski @Leszczyna @donaldtusk Co to partyjniactwo?', '@TomczakEwa @ReLucyna @RadoslavusPR @arekpisarski @Leszczyna @donaldtusk A kto Tuskowi to zarzuca?', '@TomczakEwa @RadoslavusPR @ReLucyna @arekpisarski @Leszczyna @donaldtusk Zarzuca mi Pani informowanie o podjętych przez Tuska działaniach na rzecz odblokowania funduszy odbudowy dla Polski czy też nie może sobie poukładać w głowie, że PO po prostu zmieniła zdanie w tej sprawie (3 razy)?', '@ReLucyna @RadoslavusPR @rfsodub @arekpisarski @Leszczyna @donaldtusk Większość wielkich i dużych miast ma włodarzy z Platformy lub są z nią związani wyborczo (są formalnie bezpartyjni, a PO nie wystawia przeciwko nim kandydatów). Tak tak, proszę sprawdzić.', '@Annamanchester8 @janbar91 @K_Paczkowski @Leszczyna @donaldtusk I komu by dała? Temu złemu PiS-owi? I to już nie byłby fundusz wyborczy tej partii? 🤔  https://t.co/D68HHWzrzD', '@ReLucyna @RadoslavusPR @arekpisarski @Leszczyna @donaldtusk Pani Lucyno, na Boga Ojca Jedynego, bo już nie mogę patrzeć, jak się Pani EFO miesza z KPO: Plan Odbudowy NIGDY nie był głosowany. Można sobie go było popierać albo i nie, podobnie jak inne dokumenty rządowe. To, co było głosowane, to ratyfikacja decyzji Rady (UE, Euratom). 1/2', '@PawelZielinsk17 @Leszczyna @donaldtusk Rozumiem, że według Pana Donald Tusk teraz zabiega o te środki by PiS je mógł wydawać „BEZ KONTROLI, jak na te maseczki, jak na te respiratory i jak na mur”, tak?  https://t.co/aHRY7Hg35Y', '@stepien_przemek @airborell @MagdalenaStas11 @Leszczyna @donaldtusk Nie, lewica nie straciła twarzy. To KO, w tym Zieloni, upatrzywszy jak sępy szansę na rozczłonkowanie nas, zaczęła taką narrację wciskać.', '@MartaHabior @MarcinSnopkowsk @Leszczyna @donaldtusk „Warunki mają sens wtedy, gdy są postawione przez całą opozycję, bez której głosów, pis nie ma w danym głosowaniu większości.”- poprawię, bo jest nielogicznie:  Warunki mają sens wtedy, gdy są postawione przez opozycję, bez której głosów, pis nie ma w danym głosowaniu większości.', '@JachuJeziorny @Tomektml @Leszczyna @donaldtusk Lewicowe poglądy: czyli, jak się domyślam, popiera Pan po prostu uniwersalne prawa człowieka? Czy może coś w sprawach gospodarki, systemu podatkowego i pozycji związków zawodowych w zakładach pracy oraz w państwie?', '@JachuJeziorny @Tomektml @Leszczyna @donaldtusk Nie potrzebujemy kibicowania. W wyborach do Sejmu można zagłosować tylko na jedną osobę na jednej liście. Opowieści o tym, jak to wyborcy chadecji kibicują lewicy, nie mają na to „gdzie zajedzie nasza partia” kompletnie żadnego wpływu.', '@Insightful345 @Leszczyna @donaldtusk Nie, nie, Kaczyński miał się wściec, wejść na mównicę i zacząć krzyczeć 😛', '@PiotrGrab1 @szymon_holownia @donaldtusk @trzaskowski_ „Pójdźcie, o dziatki, pójdźcie wszystkie razem Za miasto, pod słup, na wzgórek; Tam przed cudownym klęknijcie obrazem, Pobożnie zmówcie paciórek. Tato nie wraca: ranki i wieczory We łzach go czekam i trwodze; (…) Słysząc to dziatki, biegą wszystkie razem”', '@Radek05369166 @Radio_TOK_FM @donaldtusk robi to cynicznie. Panie Przewodniczący,przecież my widzimy te Pańskie zagrania,widzimy w jaki sposób się Pan odnosi do @__Lewica. Zyskał Pan na tym? Nie,sondaże nie drgnęły. Bez lewicy ob. opozycja nie będzie miała większości w przyszłym Sejmie.Woli Pan Konfederację?']\n"
     ]
    }
   ],
   "source": [
    "user_id = df_users[df_users[\"username\"] == \"AM_Zukowska\"][\"id\"].iloc[0]\n",
    "offensive_tweets = df_tweets[(df_tweets[\"user_id\"] == user_id) & (df_tweets[\"offensive\"] == 1)]\n",
    "print(offensive_tweets[\"tweet\"].tolist())"
   ]
  },
  {
   "cell_type": "code",
   "execution_count": null,
   "metadata": {},
   "outputs": [],
   "source": []
  }
 ],
 "metadata": {
  "interpreter": {
   "hash": "d188635b9cc2da946a92c534281f1dc8260b4a4b881cc63b53bc101d454a6dbc"
  },
  "kernelspec": {
   "display_name": "Python 3 (ipykernel)",
   "language": "python",
   "name": "python3"
  },
  "language_info": {
   "codemirror_mode": {
    "name": "ipython",
    "version": 3
   },
   "file_extension": ".py",
   "mimetype": "text/x-python",
   "name": "python",
   "nbconvert_exporter": "python",
   "pygments_lexer": "ipython3",
   "version": "3.8.10"
  }
 },
 "nbformat": 4,
 "nbformat_minor": 4
}
